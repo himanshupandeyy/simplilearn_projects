{
  "cells": [
    {
      "cell_type": "markdown",
      "metadata": {
        "id": "view-in-github",
        "colab_type": "text"
      },
      "source": [
        "<a href=\"https://colab.research.google.com/github/himanshupandeyy/simplilearn_projects/blob/main/customer_service_rst_1.ipynb\" target=\"_parent\"><img src=\"https://colab.research.google.com/assets/colab-badge.svg\" alt=\"Open In Colab\"/></a>"
      ]
    },
    {
      "cell_type": "markdown",
      "metadata": {
        "id": "n9jNCnuuQtjJ"
      },
      "source": []
    },
    {
      "cell_type": "code",
      "execution_count": null,
      "metadata": {
        "id": "r7iOoy7zQz3s"
      },
      "outputs": [],
      "source": [
        "import numpy as np\n",
        "import pandas as pd\n",
        "import matplotlib.pyplot as plt\n",
        "import seaborn as sns\n",
        "%matplotlib inline\n",
        "pd.set_option('display.max_columns', 55)\n",
        "pd.set_option('display.max_rows', 364558)\n",
        "import datetime"
      ]
    },
    {
      "cell_type": "code",
      "execution_count": null,
      "metadata": {
        "id": "oP_x4wBdRkSP"
      },
      "outputs": [],
      "source": [
        "cmr_service_df = pd.read_csv(\"/content/drive/MyDrive/Data science learning/Datasets /simplilear_project_1_python/Project_Two_Dataset/311_Service_Requests_from_2010_to_Present.csv\",parse_dates=[\"Created Date\", \"Closed Date\", \"Due Date\"] , low_memory =False)"
      ]
    },
    {
      "cell_type": "code",
      "execution_count": null,
      "metadata": {
        "colab": {
          "base_uri": "https://localhost:8080/"
        },
        "id": "aIRjVKIKS3-H",
        "outputId": "8867e920-d3d8-4046-e2b8-8229344631cc"
      },
      "outputs": [
        {
          "output_type": "execute_result",
          "data": {
            "text/plain": [
              "(364558, 53)"
            ]
          },
          "metadata": {},
          "execution_count": 408
        }
      ],
      "source": [
        "cmr_service_df.shape"
      ]
    },
    {
      "cell_type": "markdown",
      "metadata": {
        "id": "lUFhiNNcWcOO"
      },
      "source": [
        "# dataset contain 53 columns and 364558 rows."
      ]
    },
    {
      "cell_type": "code",
      "execution_count": null,
      "metadata": {
        "colab": {
          "base_uri": "https://localhost:8080/"
        },
        "id": "nBA1rtSHU9dE",
        "outputId": "defce1a0-86f3-4008-8573-1c99c5fbe72b"
      },
      "outputs": [
        {
          "output_type": "execute_result",
          "data": {
            "text/plain": [
              "53"
            ]
          },
          "metadata": {},
          "execution_count": 409
        }
      ],
      "source": [
        "len(cmr_service_df.columns)"
      ]
    },
    {
      "cell_type": "code",
      "execution_count": null,
      "metadata": {
        "colab": {
          "base_uri": "https://localhost:8080/",
          "height": 350
        },
        "id": "TYEWG7SmTRoY",
        "outputId": "4e78fe73-6405-45c0-e707-96ead343f6cd"
      },
      "outputs": [
        {
          "output_type": "execute_result",
          "data": {
            "text/plain": [
              "   Unique Key        Created Date         Closed Date Agency  \\\n",
              "0    32310363 2015-12-31 23:59:45 2016-01-01 00:55:15   NYPD   \n",
              "1    32309934 2015-12-31 23:59:44 2016-01-01 01:26:57   NYPD   \n",
              "\n",
              "                       Agency Name           Complaint Type        Descriptor  \\\n",
              "0  New York City Police Department  Noise - Street/Sidewalk  Loud Music/Party   \n",
              "1  New York City Police Department         Blocked Driveway         No Access   \n",
              "\n",
              "     Location Type  Incident Zip     Incident Address       Street Name  \\\n",
              "0  Street/Sidewalk       10034.0  71 VERMILYEA AVENUE  VERMILYEA AVENUE   \n",
              "1  Street/Sidewalk       11105.0      27-07 23 AVENUE         23 AVENUE   \n",
              "\n",
              "   Cross Street 1   Cross Street 2 Intersection Street 1  \\\n",
              "0  ACADEMY STREET  WEST 204 STREET                   NaN   \n",
              "1       27 STREET        28 STREET                   NaN   \n",
              "\n",
              "  Intersection Street 2 Address Type      City Landmark Facility Type  Status  \\\n",
              "0                   NaN      ADDRESS  NEW YORK      NaN      Precinct  Closed   \n",
              "1                   NaN      ADDRESS   ASTORIA      NaN      Precinct  Closed   \n",
              "\n",
              "             Due Date                             Resolution Description  \\\n",
              "0 2016-01-01 07:59:45  The Police Department responded and upon arriv...   \n",
              "1 2016-01-01 07:59:44  The Police Department responded to the complai...   \n",
              "\n",
              "  Resolution Action Updated Date Community Board    Borough  \\\n",
              "0         01/01/2016 12:55:15 AM    12 MANHATTAN  MANHATTAN   \n",
              "1         01/01/2016 01:26:57 AM       01 QUEENS     QUEENS   \n",
              "\n",
              "   X Coordinate (State Plane)  Y Coordinate (State Plane) Park Facility Name  \\\n",
              "0                   1005409.0                    254678.0        Unspecified   \n",
              "1                   1007766.0                    221986.0        Unspecified   \n",
              "\n",
              "  Park Borough  School Name School Number School Region  School Code  \\\n",
              "0    MANHATTAN  Unspecified   Unspecified   Unspecified  Unspecified   \n",
              "1       QUEENS  Unspecified   Unspecified   Unspecified  Unspecified   \n",
              "\n",
              "  School Phone Number School Address  School City School State   School Zip  \\\n",
              "0         Unspecified    Unspecified  Unspecified  Unspecified  Unspecified   \n",
              "1         Unspecified    Unspecified  Unspecified  Unspecified  Unspecified   \n",
              "\n",
              "  School Not Found  School or Citywide Complaint  Vehicle Type  \\\n",
              "0                N                           NaN           NaN   \n",
              "1                N                           NaN           NaN   \n",
              "\n",
              "   Taxi Company Borough  Taxi Pick Up Location Bridge Highway Name  \\\n",
              "0                   NaN                    NaN                 NaN   \n",
              "1                   NaN                    NaN                 NaN   \n",
              "\n",
              "  Bridge Highway Direction Road Ramp Bridge Highway Segment  Garage Lot Name  \\\n",
              "0                      NaN       NaN                    NaN              NaN   \n",
              "1                      NaN       NaN                    NaN              NaN   \n",
              "\n",
              "  Ferry Direction Ferry Terminal Name   Latitude  Longitude  \\\n",
              "0             NaN                 NaN  40.865682 -73.923501   \n",
              "1             NaN                 NaN  40.775945 -73.915094   \n",
              "\n",
              "                                   Location  \n",
              "0   (40.86568153633767, -73.92350095571744)  \n",
              "1  (40.775945312321085, -73.91509393898605)  "
            ],
            "text/html": [
              "\n",
              "  <div id=\"df-3e908d48-2d88-4c27-a94f-4d109cecae17\">\n",
              "    <div class=\"colab-df-container\">\n",
              "      <div>\n",
              "<style scoped>\n",
              "    .dataframe tbody tr th:only-of-type {\n",
              "        vertical-align: middle;\n",
              "    }\n",
              "\n",
              "    .dataframe tbody tr th {\n",
              "        vertical-align: top;\n",
              "    }\n",
              "\n",
              "    .dataframe thead th {\n",
              "        text-align: right;\n",
              "    }\n",
              "</style>\n",
              "<table border=\"1\" class=\"dataframe\">\n",
              "  <thead>\n",
              "    <tr style=\"text-align: right;\">\n",
              "      <th></th>\n",
              "      <th>Unique Key</th>\n",
              "      <th>Created Date</th>\n",
              "      <th>Closed Date</th>\n",
              "      <th>Agency</th>\n",
              "      <th>Agency Name</th>\n",
              "      <th>Complaint Type</th>\n",
              "      <th>Descriptor</th>\n",
              "      <th>Location Type</th>\n",
              "      <th>Incident Zip</th>\n",
              "      <th>Incident Address</th>\n",
              "      <th>Street Name</th>\n",
              "      <th>Cross Street 1</th>\n",
              "      <th>Cross Street 2</th>\n",
              "      <th>Intersection Street 1</th>\n",
              "      <th>Intersection Street 2</th>\n",
              "      <th>Address Type</th>\n",
              "      <th>City</th>\n",
              "      <th>Landmark</th>\n",
              "      <th>Facility Type</th>\n",
              "      <th>Status</th>\n",
              "      <th>Due Date</th>\n",
              "      <th>Resolution Description</th>\n",
              "      <th>Resolution Action Updated Date</th>\n",
              "      <th>Community Board</th>\n",
              "      <th>Borough</th>\n",
              "      <th>X Coordinate (State Plane)</th>\n",
              "      <th>Y Coordinate (State Plane)</th>\n",
              "      <th>Park Facility Name</th>\n",
              "      <th>Park Borough</th>\n",
              "      <th>School Name</th>\n",
              "      <th>School Number</th>\n",
              "      <th>School Region</th>\n",
              "      <th>School Code</th>\n",
              "      <th>School Phone Number</th>\n",
              "      <th>School Address</th>\n",
              "      <th>School City</th>\n",
              "      <th>School State</th>\n",
              "      <th>School Zip</th>\n",
              "      <th>School Not Found</th>\n",
              "      <th>School or Citywide Complaint</th>\n",
              "      <th>Vehicle Type</th>\n",
              "      <th>Taxi Company Borough</th>\n",
              "      <th>Taxi Pick Up Location</th>\n",
              "      <th>Bridge Highway Name</th>\n",
              "      <th>Bridge Highway Direction</th>\n",
              "      <th>Road Ramp</th>\n",
              "      <th>Bridge Highway Segment</th>\n",
              "      <th>Garage Lot Name</th>\n",
              "      <th>Ferry Direction</th>\n",
              "      <th>Ferry Terminal Name</th>\n",
              "      <th>Latitude</th>\n",
              "      <th>Longitude</th>\n",
              "      <th>Location</th>\n",
              "    </tr>\n",
              "  </thead>\n",
              "  <tbody>\n",
              "    <tr>\n",
              "      <th>0</th>\n",
              "      <td>32310363</td>\n",
              "      <td>2015-12-31 23:59:45</td>\n",
              "      <td>2016-01-01 00:55:15</td>\n",
              "      <td>NYPD</td>\n",
              "      <td>New York City Police Department</td>\n",
              "      <td>Noise - Street/Sidewalk</td>\n",
              "      <td>Loud Music/Party</td>\n",
              "      <td>Street/Sidewalk</td>\n",
              "      <td>10034.0</td>\n",
              "      <td>71 VERMILYEA AVENUE</td>\n",
              "      <td>VERMILYEA AVENUE</td>\n",
              "      <td>ACADEMY STREET</td>\n",
              "      <td>WEST 204 STREET</td>\n",
              "      <td>NaN</td>\n",
              "      <td>NaN</td>\n",
              "      <td>ADDRESS</td>\n",
              "      <td>NEW YORK</td>\n",
              "      <td>NaN</td>\n",
              "      <td>Precinct</td>\n",
              "      <td>Closed</td>\n",
              "      <td>2016-01-01 07:59:45</td>\n",
              "      <td>The Police Department responded and upon arriv...</td>\n",
              "      <td>01/01/2016 12:55:15 AM</td>\n",
              "      <td>12 MANHATTAN</td>\n",
              "      <td>MANHATTAN</td>\n",
              "      <td>1005409.0</td>\n",
              "      <td>254678.0</td>\n",
              "      <td>Unspecified</td>\n",
              "      <td>MANHATTAN</td>\n",
              "      <td>Unspecified</td>\n",
              "      <td>Unspecified</td>\n",
              "      <td>Unspecified</td>\n",
              "      <td>Unspecified</td>\n",
              "      <td>Unspecified</td>\n",
              "      <td>Unspecified</td>\n",
              "      <td>Unspecified</td>\n",
              "      <td>Unspecified</td>\n",
              "      <td>Unspecified</td>\n",
              "      <td>N</td>\n",
              "      <td>NaN</td>\n",
              "      <td>NaN</td>\n",
              "      <td>NaN</td>\n",
              "      <td>NaN</td>\n",
              "      <td>NaN</td>\n",
              "      <td>NaN</td>\n",
              "      <td>NaN</td>\n",
              "      <td>NaN</td>\n",
              "      <td>NaN</td>\n",
              "      <td>NaN</td>\n",
              "      <td>NaN</td>\n",
              "      <td>40.865682</td>\n",
              "      <td>-73.923501</td>\n",
              "      <td>(40.86568153633767, -73.92350095571744)</td>\n",
              "    </tr>\n",
              "    <tr>\n",
              "      <th>1</th>\n",
              "      <td>32309934</td>\n",
              "      <td>2015-12-31 23:59:44</td>\n",
              "      <td>2016-01-01 01:26:57</td>\n",
              "      <td>NYPD</td>\n",
              "      <td>New York City Police Department</td>\n",
              "      <td>Blocked Driveway</td>\n",
              "      <td>No Access</td>\n",
              "      <td>Street/Sidewalk</td>\n",
              "      <td>11105.0</td>\n",
              "      <td>27-07 23 AVENUE</td>\n",
              "      <td>23 AVENUE</td>\n",
              "      <td>27 STREET</td>\n",
              "      <td>28 STREET</td>\n",
              "      <td>NaN</td>\n",
              "      <td>NaN</td>\n",
              "      <td>ADDRESS</td>\n",
              "      <td>ASTORIA</td>\n",
              "      <td>NaN</td>\n",
              "      <td>Precinct</td>\n",
              "      <td>Closed</td>\n",
              "      <td>2016-01-01 07:59:44</td>\n",
              "      <td>The Police Department responded to the complai...</td>\n",
              "      <td>01/01/2016 01:26:57 AM</td>\n",
              "      <td>01 QUEENS</td>\n",
              "      <td>QUEENS</td>\n",
              "      <td>1007766.0</td>\n",
              "      <td>221986.0</td>\n",
              "      <td>Unspecified</td>\n",
              "      <td>QUEENS</td>\n",
              "      <td>Unspecified</td>\n",
              "      <td>Unspecified</td>\n",
              "      <td>Unspecified</td>\n",
              "      <td>Unspecified</td>\n",
              "      <td>Unspecified</td>\n",
              "      <td>Unspecified</td>\n",
              "      <td>Unspecified</td>\n",
              "      <td>Unspecified</td>\n",
              "      <td>Unspecified</td>\n",
              "      <td>N</td>\n",
              "      <td>NaN</td>\n",
              "      <td>NaN</td>\n",
              "      <td>NaN</td>\n",
              "      <td>NaN</td>\n",
              "      <td>NaN</td>\n",
              "      <td>NaN</td>\n",
              "      <td>NaN</td>\n",
              "      <td>NaN</td>\n",
              "      <td>NaN</td>\n",
              "      <td>NaN</td>\n",
              "      <td>NaN</td>\n",
              "      <td>40.775945</td>\n",
              "      <td>-73.915094</td>\n",
              "      <td>(40.775945312321085, -73.91509393898605)</td>\n",
              "    </tr>\n",
              "  </tbody>\n",
              "</table>\n",
              "</div>\n",
              "      <button class=\"colab-df-convert\" onclick=\"convertToInteractive('df-3e908d48-2d88-4c27-a94f-4d109cecae17')\"\n",
              "              title=\"Convert this dataframe to an interactive table.\"\n",
              "              style=\"display:none;\">\n",
              "        \n",
              "  <svg xmlns=\"http://www.w3.org/2000/svg\" height=\"24px\"viewBox=\"0 0 24 24\"\n",
              "       width=\"24px\">\n",
              "    <path d=\"M0 0h24v24H0V0z\" fill=\"none\"/>\n",
              "    <path d=\"M18.56 5.44l.94 2.06.94-2.06 2.06-.94-2.06-.94-.94-2.06-.94 2.06-2.06.94zm-11 1L8.5 8.5l.94-2.06 2.06-.94-2.06-.94L8.5 2.5l-.94 2.06-2.06.94zm10 10l.94 2.06.94-2.06 2.06-.94-2.06-.94-.94-2.06-.94 2.06-2.06.94z\"/><path d=\"M17.41 7.96l-1.37-1.37c-.4-.4-.92-.59-1.43-.59-.52 0-1.04.2-1.43.59L10.3 9.45l-7.72 7.72c-.78.78-.78 2.05 0 2.83L4 21.41c.39.39.9.59 1.41.59.51 0 1.02-.2 1.41-.59l7.78-7.78 2.81-2.81c.8-.78.8-2.07 0-2.86zM5.41 20L4 18.59l7.72-7.72 1.47 1.35L5.41 20z\"/>\n",
              "  </svg>\n",
              "      </button>\n",
              "      \n",
              "  <style>\n",
              "    .colab-df-container {\n",
              "      display:flex;\n",
              "      flex-wrap:wrap;\n",
              "      gap: 12px;\n",
              "    }\n",
              "\n",
              "    .colab-df-convert {\n",
              "      background-color: #E8F0FE;\n",
              "      border: none;\n",
              "      border-radius: 50%;\n",
              "      cursor: pointer;\n",
              "      display: none;\n",
              "      fill: #1967D2;\n",
              "      height: 32px;\n",
              "      padding: 0 0 0 0;\n",
              "      width: 32px;\n",
              "    }\n",
              "\n",
              "    .colab-df-convert:hover {\n",
              "      background-color: #E2EBFA;\n",
              "      box-shadow: 0px 1px 2px rgba(60, 64, 67, 0.3), 0px 1px 3px 1px rgba(60, 64, 67, 0.15);\n",
              "      fill: #174EA6;\n",
              "    }\n",
              "\n",
              "    [theme=dark] .colab-df-convert {\n",
              "      background-color: #3B4455;\n",
              "      fill: #D2E3FC;\n",
              "    }\n",
              "\n",
              "    [theme=dark] .colab-df-convert:hover {\n",
              "      background-color: #434B5C;\n",
              "      box-shadow: 0px 1px 3px 1px rgba(0, 0, 0, 0.15);\n",
              "      filter: drop-shadow(0px 1px 2px rgba(0, 0, 0, 0.3));\n",
              "      fill: #FFFFFF;\n",
              "    }\n",
              "  </style>\n",
              "\n",
              "      <script>\n",
              "        const buttonEl =\n",
              "          document.querySelector('#df-3e908d48-2d88-4c27-a94f-4d109cecae17 button.colab-df-convert');\n",
              "        buttonEl.style.display =\n",
              "          google.colab.kernel.accessAllowed ? 'block' : 'none';\n",
              "\n",
              "        async function convertToInteractive(key) {\n",
              "          const element = document.querySelector('#df-3e908d48-2d88-4c27-a94f-4d109cecae17');\n",
              "          const dataTable =\n",
              "            await google.colab.kernel.invokeFunction('convertToInteractive',\n",
              "                                                     [key], {});\n",
              "          if (!dataTable) return;\n",
              "\n",
              "          const docLinkHtml = 'Like what you see? Visit the ' +\n",
              "            '<a target=\"_blank\" href=https://colab.research.google.com/notebooks/data_table.ipynb>data table notebook</a>'\n",
              "            + ' to learn more about interactive tables.';\n",
              "          element.innerHTML = '';\n",
              "          dataTable['output_type'] = 'display_data';\n",
              "          await google.colab.output.renderOutput(dataTable, element);\n",
              "          const docLink = document.createElement('div');\n",
              "          docLink.innerHTML = docLinkHtml;\n",
              "          element.appendChild(docLink);\n",
              "        }\n",
              "      </script>\n",
              "    </div>\n",
              "  </div>\n",
              "  "
            ]
          },
          "metadata": {},
          "execution_count": 410
        }
      ],
      "source": [
        "cmr_service_df.head(2)"
      ]
    },
    {
      "cell_type": "code",
      "execution_count": null,
      "metadata": {
        "id": "1N-XRQTPTzbP"
      },
      "outputs": [],
      "source": [
        "# check null values bcoz many colummns showing NAN. Lets find out, How many null values are present in this dataset ?"
      ]
    },
    {
      "cell_type": "code",
      "execution_count": null,
      "metadata": {
        "colab": {
          "base_uri": "https://localhost:8080/"
        },
        "id": "KU5d8EU2W-Wu",
        "outputId": "40780f08-47d0-41ce-c07b-6db04e712bcc"
      },
      "outputs": [
        {
          "output_type": "execute_result",
          "data": {
            "text/plain": [
              "Unique Key                        False\n",
              "Created Date                      False\n",
              "Closed Date                        True\n",
              "Agency                            False\n",
              "Agency Name                       False\n",
              "Complaint Type                    False\n",
              "Descriptor                         True\n",
              "Location Type                      True\n",
              "Incident Zip                       True\n",
              "Incident Address                   True\n",
              "Street Name                        True\n",
              "Cross Street 1                     True\n",
              "Cross Street 2                     True\n",
              "Intersection Street 1              True\n",
              "Intersection Street 2              True\n",
              "Address Type                       True\n",
              "City                               True\n",
              "Landmark                           True\n",
              "Facility Type                      True\n",
              "Status                            False\n",
              "Due Date                           True\n",
              "Resolution Description            False\n",
              "Resolution Action Updated Date     True\n",
              "Community Board                   False\n",
              "Borough                           False\n",
              "X Coordinate (State Plane)         True\n",
              "Y Coordinate (State Plane)         True\n",
              "Park Facility Name                False\n",
              "Park Borough                      False\n",
              "School Name                       False\n",
              "School Number                     False\n",
              "School Region                      True\n",
              "School Code                        True\n",
              "School Phone Number               False\n",
              "School Address                    False\n",
              "School City                       False\n",
              "School State                      False\n",
              "School Zip                         True\n",
              "School Not Found                  False\n",
              "School or Citywide Complaint       True\n",
              "Vehicle Type                       True\n",
              "Taxi Company Borough               True\n",
              "Taxi Pick Up Location              True\n",
              "Bridge Highway Name                True\n",
              "Bridge Highway Direction           True\n",
              "Road Ramp                          True\n",
              "Bridge Highway Segment             True\n",
              "Garage Lot Name                    True\n",
              "Ferry Direction                    True\n",
              "Ferry Terminal Name                True\n",
              "Latitude                           True\n",
              "Longitude                          True\n",
              "Location                           True\n",
              "dtype: bool"
            ]
          },
          "metadata": {},
          "execution_count": 412
        }
      ],
      "source": [
        "cmr_service_df.isna().any()"
      ]
    },
    {
      "cell_type": "code",
      "execution_count": null,
      "metadata": {
        "id": "6SfYfFlZXGG6"
      },
      "outputs": [],
      "source": [
        "# True means has null value in column, False means has not. These are the coumns has null values."
      ]
    },
    {
      "cell_type": "code",
      "execution_count": null,
      "metadata": {
        "id": "4PW6jrLyXSSQ",
        "colab": {
          "base_uri": "https://localhost:8080/"
        },
        "outputId": "1cc82ca2-65bf-45a5-9345-159586090fd2"
      },
      "outputs": [
        {
          "output_type": "execute_result",
          "data": {
            "text/plain": [
              "Unique Key                             0\n",
              "Created Date                           0\n",
              "Closed Date                         2381\n",
              "Agency                                 0\n",
              "Agency Name                            0\n",
              "Complaint Type                         0\n",
              "Descriptor                          6501\n",
              "Location Type                        133\n",
              "Incident Zip                        2998\n",
              "Incident Address                   51699\n",
              "Street Name                        51699\n",
              "Cross Street 1                     57188\n",
              "Cross Street 2                     57805\n",
              "Intersection Street 1             313438\n",
              "Intersection Street 2             314046\n",
              "Address Type                        3252\n",
              "City                                2997\n",
              "Landmark                          364183\n",
              "Facility Type                       2389\n",
              "Status                                 0\n",
              "Due Date                               3\n",
              "Resolution Description                 0\n",
              "Resolution Action Updated Date      2402\n",
              "Community Board                        0\n",
              "Borough                                0\n",
              "X Coordinate (State Plane)          4030\n",
              "Y Coordinate (State Plane)          4030\n",
              "Park Facility Name                     0\n",
              "Park Borough                           0\n",
              "School Name                            0\n",
              "School Number                          0\n",
              "School Region                          1\n",
              "School Code                            1\n",
              "School Phone Number                    0\n",
              "School Address                         0\n",
              "School City                            0\n",
              "School State                           0\n",
              "School Zip                             1\n",
              "School Not Found                       0\n",
              "School or Citywide Complaint      364558\n",
              "Vehicle Type                      364558\n",
              "Taxi Company Borough              364558\n",
              "Taxi Pick Up Location             364558\n",
              "Bridge Highway Name               364261\n",
              "Bridge Highway Direction          364261\n",
              "Road Ramp                         364296\n",
              "Bridge Highway Segment            364296\n",
              "Garage Lot Name                   364558\n",
              "Ferry Direction                   364557\n",
              "Ferry Terminal Name               364556\n",
              "Latitude                            4030\n",
              "Longitude                           4030\n",
              "Location                            4030\n",
              "dtype: int64"
            ]
          },
          "metadata": {},
          "execution_count": 414
        }
      ],
      "source": [
        "cmr_service_df.isna().sum()"
      ]
    },
    {
      "cell_type": "code",
      "execution_count": null,
      "metadata": {
        "id": "wH-OSJrjYBbU"
      },
      "outputs": [],
      "source": []
    },
    {
      "cell_type": "markdown",
      "metadata": {
        "id": "nCK2GLBXYe1I"
      },
      "source": [
        "   # EDA ON DATASET"
      ]
    },
    {
      "cell_type": "code",
      "execution_count": null,
      "metadata": {
        "id": "hhPiR0hJdH1V",
        "colab": {
          "base_uri": "https://localhost:8080/"
        },
        "outputId": "6081affa-94aa-425a-e520-4a2140c2bdd5"
      },
      "outputs": [
        {
          "output_type": "stream",
          "name": "stdout",
          "text": [
            "<class 'pandas.core.frame.DataFrame'>\n",
            "RangeIndex: 364558 entries, 0 to 364557\n",
            "Data columns (total 53 columns):\n",
            " #   Column                          Non-Null Count   Dtype         \n",
            "---  ------                          --------------   -----         \n",
            " 0   Unique Key                      364558 non-null  int64         \n",
            " 1   Created Date                    364558 non-null  datetime64[ns]\n",
            " 2   Closed Date                     362177 non-null  datetime64[ns]\n",
            " 3   Agency                          364558 non-null  object        \n",
            " 4   Agency Name                     364558 non-null  object        \n",
            " 5   Complaint Type                  364558 non-null  object        \n",
            " 6   Descriptor                      358057 non-null  object        \n",
            " 7   Location Type                   364425 non-null  object        \n",
            " 8   Incident Zip                    361560 non-null  float64       \n",
            " 9   Incident Address                312859 non-null  object        \n",
            " 10  Street Name                     312859 non-null  object        \n",
            " 11  Cross Street 1                  307370 non-null  object        \n",
            " 12  Cross Street 2                  306753 non-null  object        \n",
            " 13  Intersection Street 1           51120 non-null   object        \n",
            " 14  Intersection Street 2           50512 non-null   object        \n",
            " 15  Address Type                    361306 non-null  object        \n",
            " 16  City                            361561 non-null  object        \n",
            " 17  Landmark                        375 non-null     object        \n",
            " 18  Facility Type                   362169 non-null  object        \n",
            " 19  Status                          364558 non-null  object        \n",
            " 20  Due Date                        364555 non-null  datetime64[ns]\n",
            " 21  Resolution Description          364558 non-null  object        \n",
            " 22  Resolution Action Updated Date  362156 non-null  object        \n",
            " 23  Community Board                 364558 non-null  object        \n",
            " 24  Borough                         364558 non-null  object        \n",
            " 25  X Coordinate (State Plane)      360528 non-null  float64       \n",
            " 26  Y Coordinate (State Plane)      360528 non-null  float64       \n",
            " 27  Park Facility Name              364558 non-null  object        \n",
            " 28  Park Borough                    364558 non-null  object        \n",
            " 29  School Name                     364558 non-null  object        \n",
            " 30  School Number                   364558 non-null  object        \n",
            " 31  School Region                   364557 non-null  object        \n",
            " 32  School Code                     364557 non-null  object        \n",
            " 33  School Phone Number             364558 non-null  object        \n",
            " 34  School Address                  364558 non-null  object        \n",
            " 35  School City                     364558 non-null  object        \n",
            " 36  School State                    364558 non-null  object        \n",
            " 37  School Zip                      364557 non-null  object        \n",
            " 38  School Not Found                364558 non-null  object        \n",
            " 39  School or Citywide Complaint    0 non-null       float64       \n",
            " 40  Vehicle Type                    0 non-null       float64       \n",
            " 41  Taxi Company Borough            0 non-null       float64       \n",
            " 42  Taxi Pick Up Location           0 non-null       float64       \n",
            " 43  Bridge Highway Name             297 non-null     object        \n",
            " 44  Bridge Highway Direction        297 non-null     object        \n",
            " 45  Road Ramp                       262 non-null     object        \n",
            " 46  Bridge Highway Segment          262 non-null     object        \n",
            " 47  Garage Lot Name                 0 non-null       float64       \n",
            " 48  Ferry Direction                 1 non-null       object        \n",
            " 49  Ferry Terminal Name             2 non-null       object        \n",
            " 50  Latitude                        360528 non-null  float64       \n",
            " 51  Longitude                       360528 non-null  float64       \n",
            " 52  Location                        360528 non-null  object        \n",
            "dtypes: datetime64[ns](3), float64(10), int64(1), object(39)\n",
            "memory usage: 147.4+ MB\n"
          ]
        }
      ],
      "source": [
        "cmr_service_df.info()"
      ]
    },
    {
      "cell_type": "code",
      "execution_count": null,
      "metadata": {
        "id": "wUQlPohoYhr_",
        "colab": {
          "base_uri": "https://localhost:8080/",
          "height": 361
        },
        "outputId": "3533b31c-3df2-4895-d843-1ce67119c8c2"
      },
      "outputs": [
        {
          "output_type": "execute_result",
          "data": {
            "text/plain": [
              "         Unique Key   Incident Zip  X Coordinate (State Plane)  \\\n",
              "count  3.645580e+05  361560.000000                3.605280e+05   \n",
              "mean   3.106595e+07   10858.496659                1.005043e+06   \n",
              "std    7.331531e+05     578.263114                2.196362e+04   \n",
              "min    2.960737e+07      83.000000                9.133570e+05   \n",
              "25%    3.049938e+07   10314.000000                9.919460e+05   \n",
              "50%    3.108795e+07   11209.000000                1.003470e+06   \n",
              "75%    3.167433e+07   11238.000000                1.019134e+06   \n",
              "max    3.231065e+07   11697.000000                1.067186e+06   \n",
              "\n",
              "       Y Coordinate (State Plane)  School or Citywide Complaint  Vehicle Type  \\\n",
              "count               360528.000000                           0.0           0.0   \n",
              "mean                203425.305782                           NaN           NaN   \n",
              "std                  29842.192857                           NaN           NaN   \n",
              "min                 121185.000000                           NaN           NaN   \n",
              "25%                 182945.000000                           NaN           NaN   \n",
              "50%                 201023.000000                           NaN           NaN   \n",
              "75%                 222790.000000                           NaN           NaN   \n",
              "max                 271876.000000                           NaN           NaN   \n",
              "\n",
              "       Taxi Company Borough  Taxi Pick Up Location  Garage Lot Name  \\\n",
              "count                   0.0                    0.0              0.0   \n",
              "mean                    NaN                    NaN              NaN   \n",
              "std                     NaN                    NaN              NaN   \n",
              "min                     NaN                    NaN              NaN   \n",
              "25%                     NaN                    NaN              NaN   \n",
              "50%                     NaN                    NaN              NaN   \n",
              "75%                     NaN                    NaN              NaN   \n",
              "max                     NaN                    NaN              NaN   \n",
              "\n",
              "            Latitude      Longitude  \n",
              "count  360528.000000  360528.000000  \n",
              "mean       40.724980     -73.924946  \n",
              "std         0.081907       0.079213  \n",
              "min        40.499040     -74.254937  \n",
              "25%        40.668742     -73.972253  \n",
              "50%        40.718406     -73.930643  \n",
              "75%        40.778166     -73.874098  \n",
              "max        40.912869     -73.700715  "
            ],
            "text/html": [
              "\n",
              "  <div id=\"df-d528dc7e-0c52-47c5-8e43-fb773d66cefa\">\n",
              "    <div class=\"colab-df-container\">\n",
              "      <div>\n",
              "<style scoped>\n",
              "    .dataframe tbody tr th:only-of-type {\n",
              "        vertical-align: middle;\n",
              "    }\n",
              "\n",
              "    .dataframe tbody tr th {\n",
              "        vertical-align: top;\n",
              "    }\n",
              "\n",
              "    .dataframe thead th {\n",
              "        text-align: right;\n",
              "    }\n",
              "</style>\n",
              "<table border=\"1\" class=\"dataframe\">\n",
              "  <thead>\n",
              "    <tr style=\"text-align: right;\">\n",
              "      <th></th>\n",
              "      <th>Unique Key</th>\n",
              "      <th>Incident Zip</th>\n",
              "      <th>X Coordinate (State Plane)</th>\n",
              "      <th>Y Coordinate (State Plane)</th>\n",
              "      <th>School or Citywide Complaint</th>\n",
              "      <th>Vehicle Type</th>\n",
              "      <th>Taxi Company Borough</th>\n",
              "      <th>Taxi Pick Up Location</th>\n",
              "      <th>Garage Lot Name</th>\n",
              "      <th>Latitude</th>\n",
              "      <th>Longitude</th>\n",
              "    </tr>\n",
              "  </thead>\n",
              "  <tbody>\n",
              "    <tr>\n",
              "      <th>count</th>\n",
              "      <td>3.645580e+05</td>\n",
              "      <td>361560.000000</td>\n",
              "      <td>3.605280e+05</td>\n",
              "      <td>360528.000000</td>\n",
              "      <td>0.0</td>\n",
              "      <td>0.0</td>\n",
              "      <td>0.0</td>\n",
              "      <td>0.0</td>\n",
              "      <td>0.0</td>\n",
              "      <td>360528.000000</td>\n",
              "      <td>360528.000000</td>\n",
              "    </tr>\n",
              "    <tr>\n",
              "      <th>mean</th>\n",
              "      <td>3.106595e+07</td>\n",
              "      <td>10858.496659</td>\n",
              "      <td>1.005043e+06</td>\n",
              "      <td>203425.305782</td>\n",
              "      <td>NaN</td>\n",
              "      <td>NaN</td>\n",
              "      <td>NaN</td>\n",
              "      <td>NaN</td>\n",
              "      <td>NaN</td>\n",
              "      <td>40.724980</td>\n",
              "      <td>-73.924946</td>\n",
              "    </tr>\n",
              "    <tr>\n",
              "      <th>std</th>\n",
              "      <td>7.331531e+05</td>\n",
              "      <td>578.263114</td>\n",
              "      <td>2.196362e+04</td>\n",
              "      <td>29842.192857</td>\n",
              "      <td>NaN</td>\n",
              "      <td>NaN</td>\n",
              "      <td>NaN</td>\n",
              "      <td>NaN</td>\n",
              "      <td>NaN</td>\n",
              "      <td>0.081907</td>\n",
              "      <td>0.079213</td>\n",
              "    </tr>\n",
              "    <tr>\n",
              "      <th>min</th>\n",
              "      <td>2.960737e+07</td>\n",
              "      <td>83.000000</td>\n",
              "      <td>9.133570e+05</td>\n",
              "      <td>121185.000000</td>\n",
              "      <td>NaN</td>\n",
              "      <td>NaN</td>\n",
              "      <td>NaN</td>\n",
              "      <td>NaN</td>\n",
              "      <td>NaN</td>\n",
              "      <td>40.499040</td>\n",
              "      <td>-74.254937</td>\n",
              "    </tr>\n",
              "    <tr>\n",
              "      <th>25%</th>\n",
              "      <td>3.049938e+07</td>\n",
              "      <td>10314.000000</td>\n",
              "      <td>9.919460e+05</td>\n",
              "      <td>182945.000000</td>\n",
              "      <td>NaN</td>\n",
              "      <td>NaN</td>\n",
              "      <td>NaN</td>\n",
              "      <td>NaN</td>\n",
              "      <td>NaN</td>\n",
              "      <td>40.668742</td>\n",
              "      <td>-73.972253</td>\n",
              "    </tr>\n",
              "    <tr>\n",
              "      <th>50%</th>\n",
              "      <td>3.108795e+07</td>\n",
              "      <td>11209.000000</td>\n",
              "      <td>1.003470e+06</td>\n",
              "      <td>201023.000000</td>\n",
              "      <td>NaN</td>\n",
              "      <td>NaN</td>\n",
              "      <td>NaN</td>\n",
              "      <td>NaN</td>\n",
              "      <td>NaN</td>\n",
              "      <td>40.718406</td>\n",
              "      <td>-73.930643</td>\n",
              "    </tr>\n",
              "    <tr>\n",
              "      <th>75%</th>\n",
              "      <td>3.167433e+07</td>\n",
              "      <td>11238.000000</td>\n",
              "      <td>1.019134e+06</td>\n",
              "      <td>222790.000000</td>\n",
              "      <td>NaN</td>\n",
              "      <td>NaN</td>\n",
              "      <td>NaN</td>\n",
              "      <td>NaN</td>\n",
              "      <td>NaN</td>\n",
              "      <td>40.778166</td>\n",
              "      <td>-73.874098</td>\n",
              "    </tr>\n",
              "    <tr>\n",
              "      <th>max</th>\n",
              "      <td>3.231065e+07</td>\n",
              "      <td>11697.000000</td>\n",
              "      <td>1.067186e+06</td>\n",
              "      <td>271876.000000</td>\n",
              "      <td>NaN</td>\n",
              "      <td>NaN</td>\n",
              "      <td>NaN</td>\n",
              "      <td>NaN</td>\n",
              "      <td>NaN</td>\n",
              "      <td>40.912869</td>\n",
              "      <td>-73.700715</td>\n",
              "    </tr>\n",
              "  </tbody>\n",
              "</table>\n",
              "</div>\n",
              "      <button class=\"colab-df-convert\" onclick=\"convertToInteractive('df-d528dc7e-0c52-47c5-8e43-fb773d66cefa')\"\n",
              "              title=\"Convert this dataframe to an interactive table.\"\n",
              "              style=\"display:none;\">\n",
              "        \n",
              "  <svg xmlns=\"http://www.w3.org/2000/svg\" height=\"24px\"viewBox=\"0 0 24 24\"\n",
              "       width=\"24px\">\n",
              "    <path d=\"M0 0h24v24H0V0z\" fill=\"none\"/>\n",
              "    <path d=\"M18.56 5.44l.94 2.06.94-2.06 2.06-.94-2.06-.94-.94-2.06-.94 2.06-2.06.94zm-11 1L8.5 8.5l.94-2.06 2.06-.94-2.06-.94L8.5 2.5l-.94 2.06-2.06.94zm10 10l.94 2.06.94-2.06 2.06-.94-2.06-.94-.94-2.06-.94 2.06-2.06.94z\"/><path d=\"M17.41 7.96l-1.37-1.37c-.4-.4-.92-.59-1.43-.59-.52 0-1.04.2-1.43.59L10.3 9.45l-7.72 7.72c-.78.78-.78 2.05 0 2.83L4 21.41c.39.39.9.59 1.41.59.51 0 1.02-.2 1.41-.59l7.78-7.78 2.81-2.81c.8-.78.8-2.07 0-2.86zM5.41 20L4 18.59l7.72-7.72 1.47 1.35L5.41 20z\"/>\n",
              "  </svg>\n",
              "      </button>\n",
              "      \n",
              "  <style>\n",
              "    .colab-df-container {\n",
              "      display:flex;\n",
              "      flex-wrap:wrap;\n",
              "      gap: 12px;\n",
              "    }\n",
              "\n",
              "    .colab-df-convert {\n",
              "      background-color: #E8F0FE;\n",
              "      border: none;\n",
              "      border-radius: 50%;\n",
              "      cursor: pointer;\n",
              "      display: none;\n",
              "      fill: #1967D2;\n",
              "      height: 32px;\n",
              "      padding: 0 0 0 0;\n",
              "      width: 32px;\n",
              "    }\n",
              "\n",
              "    .colab-df-convert:hover {\n",
              "      background-color: #E2EBFA;\n",
              "      box-shadow: 0px 1px 2px rgba(60, 64, 67, 0.3), 0px 1px 3px 1px rgba(60, 64, 67, 0.15);\n",
              "      fill: #174EA6;\n",
              "    }\n",
              "\n",
              "    [theme=dark] .colab-df-convert {\n",
              "      background-color: #3B4455;\n",
              "      fill: #D2E3FC;\n",
              "    }\n",
              "\n",
              "    [theme=dark] .colab-df-convert:hover {\n",
              "      background-color: #434B5C;\n",
              "      box-shadow: 0px 1px 3px 1px rgba(0, 0, 0, 0.15);\n",
              "      filter: drop-shadow(0px 1px 2px rgba(0, 0, 0, 0.3));\n",
              "      fill: #FFFFFF;\n",
              "    }\n",
              "  </style>\n",
              "\n",
              "      <script>\n",
              "        const buttonEl =\n",
              "          document.querySelector('#df-d528dc7e-0c52-47c5-8e43-fb773d66cefa button.colab-df-convert');\n",
              "        buttonEl.style.display =\n",
              "          google.colab.kernel.accessAllowed ? 'block' : 'none';\n",
              "\n",
              "        async function convertToInteractive(key) {\n",
              "          const element = document.querySelector('#df-d528dc7e-0c52-47c5-8e43-fb773d66cefa');\n",
              "          const dataTable =\n",
              "            await google.colab.kernel.invokeFunction('convertToInteractive',\n",
              "                                                     [key], {});\n",
              "          if (!dataTable) return;\n",
              "\n",
              "          const docLinkHtml = 'Like what you see? Visit the ' +\n",
              "            '<a target=\"_blank\" href=https://colab.research.google.com/notebooks/data_table.ipynb>data table notebook</a>'\n",
              "            + ' to learn more about interactive tables.';\n",
              "          element.innerHTML = '';\n",
              "          dataTable['output_type'] = 'display_data';\n",
              "          await google.colab.output.renderOutput(dataTable, element);\n",
              "          const docLink = document.createElement('div');\n",
              "          docLink.innerHTML = docLinkHtml;\n",
              "          element.appendChild(docLink);\n",
              "        }\n",
              "      </script>\n",
              "    </div>\n",
              "  </div>\n",
              "  "
            ]
          },
          "metadata": {},
          "execution_count": 416
        }
      ],
      "source": [
        "cmr_service_df.describe() # to also check numerical columns"
      ]
    },
    {
      "cell_type": "code",
      "execution_count": null,
      "metadata": {
        "id": "o1efZjaYa1gJ"
      },
      "outputs": [],
      "source": [
        "# remove those column which has no value. There are many columns which are not containing any value or maximum null . Better to delete those."
      ]
    },
    {
      "cell_type": "code",
      "execution_count": null,
      "metadata": {
        "id": "bpr1elLSeFs3"
      },
      "outputs": [],
      "source": [
        "cmr_service_df.drop([\"School or Citywide Complaint\", \"Vehicle Type\" ,\"Taxi Company Borough\", \"Taxi Pick Up Location\", \"Garage Lot Name\" ],axis =1 , inplace =True)"
      ]
    },
    {
      "cell_type": "code",
      "execution_count": null,
      "metadata": {
        "id": "c_vy5Vf3fdxr"
      },
      "outputs": [],
      "source": [
        "# Lets check again with description."
      ]
    },
    {
      "cell_type": "code",
      "execution_count": null,
      "metadata": {
        "id": "oC4lscg_fHXk",
        "colab": {
          "base_uri": "https://localhost:8080/",
          "height": 300
        },
        "outputId": "3bedbdad-e74e-421d-fc5c-7c5e5b6e8749"
      },
      "outputs": [
        {
          "output_type": "execute_result",
          "data": {
            "text/plain": [
              "         Unique Key   Incident Zip  X Coordinate (State Plane)  \\\n",
              "count  3.645580e+05  361560.000000                3.605280e+05   \n",
              "mean   3.106595e+07   10858.496659                1.005043e+06   \n",
              "std    7.331531e+05     578.263114                2.196362e+04   \n",
              "min    2.960737e+07      83.000000                9.133570e+05   \n",
              "25%    3.049938e+07   10314.000000                9.919460e+05   \n",
              "50%    3.108795e+07   11209.000000                1.003470e+06   \n",
              "75%    3.167433e+07   11238.000000                1.019134e+06   \n",
              "max    3.231065e+07   11697.000000                1.067186e+06   \n",
              "\n",
              "       Y Coordinate (State Plane)       Latitude      Longitude  \n",
              "count               360528.000000  360528.000000  360528.000000  \n",
              "mean                203425.305782      40.724980     -73.924946  \n",
              "std                  29842.192857       0.081907       0.079213  \n",
              "min                 121185.000000      40.499040     -74.254937  \n",
              "25%                 182945.000000      40.668742     -73.972253  \n",
              "50%                 201023.000000      40.718406     -73.930643  \n",
              "75%                 222790.000000      40.778166     -73.874098  \n",
              "max                 271876.000000      40.912869     -73.700715  "
            ],
            "text/html": [
              "\n",
              "  <div id=\"df-bf6a4642-aa36-424b-9f69-69a95ee8fffd\">\n",
              "    <div class=\"colab-df-container\">\n",
              "      <div>\n",
              "<style scoped>\n",
              "    .dataframe tbody tr th:only-of-type {\n",
              "        vertical-align: middle;\n",
              "    }\n",
              "\n",
              "    .dataframe tbody tr th {\n",
              "        vertical-align: top;\n",
              "    }\n",
              "\n",
              "    .dataframe thead th {\n",
              "        text-align: right;\n",
              "    }\n",
              "</style>\n",
              "<table border=\"1\" class=\"dataframe\">\n",
              "  <thead>\n",
              "    <tr style=\"text-align: right;\">\n",
              "      <th></th>\n",
              "      <th>Unique Key</th>\n",
              "      <th>Incident Zip</th>\n",
              "      <th>X Coordinate (State Plane)</th>\n",
              "      <th>Y Coordinate (State Plane)</th>\n",
              "      <th>Latitude</th>\n",
              "      <th>Longitude</th>\n",
              "    </tr>\n",
              "  </thead>\n",
              "  <tbody>\n",
              "    <tr>\n",
              "      <th>count</th>\n",
              "      <td>3.645580e+05</td>\n",
              "      <td>361560.000000</td>\n",
              "      <td>3.605280e+05</td>\n",
              "      <td>360528.000000</td>\n",
              "      <td>360528.000000</td>\n",
              "      <td>360528.000000</td>\n",
              "    </tr>\n",
              "    <tr>\n",
              "      <th>mean</th>\n",
              "      <td>3.106595e+07</td>\n",
              "      <td>10858.496659</td>\n",
              "      <td>1.005043e+06</td>\n",
              "      <td>203425.305782</td>\n",
              "      <td>40.724980</td>\n",
              "      <td>-73.924946</td>\n",
              "    </tr>\n",
              "    <tr>\n",
              "      <th>std</th>\n",
              "      <td>7.331531e+05</td>\n",
              "      <td>578.263114</td>\n",
              "      <td>2.196362e+04</td>\n",
              "      <td>29842.192857</td>\n",
              "      <td>0.081907</td>\n",
              "      <td>0.079213</td>\n",
              "    </tr>\n",
              "    <tr>\n",
              "      <th>min</th>\n",
              "      <td>2.960737e+07</td>\n",
              "      <td>83.000000</td>\n",
              "      <td>9.133570e+05</td>\n",
              "      <td>121185.000000</td>\n",
              "      <td>40.499040</td>\n",
              "      <td>-74.254937</td>\n",
              "    </tr>\n",
              "    <tr>\n",
              "      <th>25%</th>\n",
              "      <td>3.049938e+07</td>\n",
              "      <td>10314.000000</td>\n",
              "      <td>9.919460e+05</td>\n",
              "      <td>182945.000000</td>\n",
              "      <td>40.668742</td>\n",
              "      <td>-73.972253</td>\n",
              "    </tr>\n",
              "    <tr>\n",
              "      <th>50%</th>\n",
              "      <td>3.108795e+07</td>\n",
              "      <td>11209.000000</td>\n",
              "      <td>1.003470e+06</td>\n",
              "      <td>201023.000000</td>\n",
              "      <td>40.718406</td>\n",
              "      <td>-73.930643</td>\n",
              "    </tr>\n",
              "    <tr>\n",
              "      <th>75%</th>\n",
              "      <td>3.167433e+07</td>\n",
              "      <td>11238.000000</td>\n",
              "      <td>1.019134e+06</td>\n",
              "      <td>222790.000000</td>\n",
              "      <td>40.778166</td>\n",
              "      <td>-73.874098</td>\n",
              "    </tr>\n",
              "    <tr>\n",
              "      <th>max</th>\n",
              "      <td>3.231065e+07</td>\n",
              "      <td>11697.000000</td>\n",
              "      <td>1.067186e+06</td>\n",
              "      <td>271876.000000</td>\n",
              "      <td>40.912869</td>\n",
              "      <td>-73.700715</td>\n",
              "    </tr>\n",
              "  </tbody>\n",
              "</table>\n",
              "</div>\n",
              "      <button class=\"colab-df-convert\" onclick=\"convertToInteractive('df-bf6a4642-aa36-424b-9f69-69a95ee8fffd')\"\n",
              "              title=\"Convert this dataframe to an interactive table.\"\n",
              "              style=\"display:none;\">\n",
              "        \n",
              "  <svg xmlns=\"http://www.w3.org/2000/svg\" height=\"24px\"viewBox=\"0 0 24 24\"\n",
              "       width=\"24px\">\n",
              "    <path d=\"M0 0h24v24H0V0z\" fill=\"none\"/>\n",
              "    <path d=\"M18.56 5.44l.94 2.06.94-2.06 2.06-.94-2.06-.94-.94-2.06-.94 2.06-2.06.94zm-11 1L8.5 8.5l.94-2.06 2.06-.94-2.06-.94L8.5 2.5l-.94 2.06-2.06.94zm10 10l.94 2.06.94-2.06 2.06-.94-2.06-.94-.94-2.06-.94 2.06-2.06.94z\"/><path d=\"M17.41 7.96l-1.37-1.37c-.4-.4-.92-.59-1.43-.59-.52 0-1.04.2-1.43.59L10.3 9.45l-7.72 7.72c-.78.78-.78 2.05 0 2.83L4 21.41c.39.39.9.59 1.41.59.51 0 1.02-.2 1.41-.59l7.78-7.78 2.81-2.81c.8-.78.8-2.07 0-2.86zM5.41 20L4 18.59l7.72-7.72 1.47 1.35L5.41 20z\"/>\n",
              "  </svg>\n",
              "      </button>\n",
              "      \n",
              "  <style>\n",
              "    .colab-df-container {\n",
              "      display:flex;\n",
              "      flex-wrap:wrap;\n",
              "      gap: 12px;\n",
              "    }\n",
              "\n",
              "    .colab-df-convert {\n",
              "      background-color: #E8F0FE;\n",
              "      border: none;\n",
              "      border-radius: 50%;\n",
              "      cursor: pointer;\n",
              "      display: none;\n",
              "      fill: #1967D2;\n",
              "      height: 32px;\n",
              "      padding: 0 0 0 0;\n",
              "      width: 32px;\n",
              "    }\n",
              "\n",
              "    .colab-df-convert:hover {\n",
              "      background-color: #E2EBFA;\n",
              "      box-shadow: 0px 1px 2px rgba(60, 64, 67, 0.3), 0px 1px 3px 1px rgba(60, 64, 67, 0.15);\n",
              "      fill: #174EA6;\n",
              "    }\n",
              "\n",
              "    [theme=dark] .colab-df-convert {\n",
              "      background-color: #3B4455;\n",
              "      fill: #D2E3FC;\n",
              "    }\n",
              "\n",
              "    [theme=dark] .colab-df-convert:hover {\n",
              "      background-color: #434B5C;\n",
              "      box-shadow: 0px 1px 3px 1px rgba(0, 0, 0, 0.15);\n",
              "      filter: drop-shadow(0px 1px 2px rgba(0, 0, 0, 0.3));\n",
              "      fill: #FFFFFF;\n",
              "    }\n",
              "  </style>\n",
              "\n",
              "      <script>\n",
              "        const buttonEl =\n",
              "          document.querySelector('#df-bf6a4642-aa36-424b-9f69-69a95ee8fffd button.colab-df-convert');\n",
              "        buttonEl.style.display =\n",
              "          google.colab.kernel.accessAllowed ? 'block' : 'none';\n",
              "\n",
              "        async function convertToInteractive(key) {\n",
              "          const element = document.querySelector('#df-bf6a4642-aa36-424b-9f69-69a95ee8fffd');\n",
              "          const dataTable =\n",
              "            await google.colab.kernel.invokeFunction('convertToInteractive',\n",
              "                                                     [key], {});\n",
              "          if (!dataTable) return;\n",
              "\n",
              "          const docLinkHtml = 'Like what you see? Visit the ' +\n",
              "            '<a target=\"_blank\" href=https://colab.research.google.com/notebooks/data_table.ipynb>data table notebook</a>'\n",
              "            + ' to learn more about interactive tables.';\n",
              "          element.innerHTML = '';\n",
              "          dataTable['output_type'] = 'display_data';\n",
              "          await google.colab.output.renderOutput(dataTable, element);\n",
              "          const docLink = document.createElement('div');\n",
              "          docLink.innerHTML = docLinkHtml;\n",
              "          element.appendChild(docLink);\n",
              "        }\n",
              "      </script>\n",
              "    </div>\n",
              "  </div>\n",
              "  "
            ]
          },
          "metadata": {},
          "execution_count": 420
        }
      ],
      "source": [
        "cmr_service_df.describe() "
      ]
    },
    {
      "cell_type": "code",
      "execution_count": null,
      "metadata": {
        "id": "MOcX_m_BfMQx",
        "colab": {
          "base_uri": "https://localhost:8080/"
        },
        "outputId": "39e0fa27-b521-4e1b-f50f-9f5da20480d4"
      },
      "outputs": [
        {
          "output_type": "execute_result",
          "data": {
            "text/plain": [
              "(364558, 48)"
            ]
          },
          "metadata": {},
          "execution_count": 421
        }
      ],
      "source": [
        "cmr_service_df.shape"
      ]
    },
    {
      "cell_type": "code",
      "execution_count": null,
      "metadata": {
        "id": "ezVOTUIjfmC0"
      },
      "outputs": [],
      "source": [
        "# Now there are 48 columns, but it seems there are other non_numeric type columns present,  which are not having any values. Also delete those columns."
      ]
    },
    {
      "cell_type": "code",
      "execution_count": null,
      "metadata": {
        "id": "mdtnGUdcf9Je",
        "colab": {
          "base_uri": "https://localhost:8080/",
          "height": 350
        },
        "outputId": "796d5290-1c94-4244-cb85-c29ae54c93a6"
      },
      "outputs": [
        {
          "output_type": "execute_result",
          "data": {
            "text/plain": [
              "   Unique Key        Created Date         Closed Date Agency  \\\n",
              "0    32310363 2015-12-31 23:59:45 2016-01-01 00:55:15   NYPD   \n",
              "1    32309934 2015-12-31 23:59:44 2016-01-01 01:26:57   NYPD   \n",
              "\n",
              "                       Agency Name           Complaint Type        Descriptor  \\\n",
              "0  New York City Police Department  Noise - Street/Sidewalk  Loud Music/Party   \n",
              "1  New York City Police Department         Blocked Driveway         No Access   \n",
              "\n",
              "     Location Type  Incident Zip     Incident Address       Street Name  \\\n",
              "0  Street/Sidewalk       10034.0  71 VERMILYEA AVENUE  VERMILYEA AVENUE   \n",
              "1  Street/Sidewalk       11105.0      27-07 23 AVENUE         23 AVENUE   \n",
              "\n",
              "   Cross Street 1   Cross Street 2 Intersection Street 1  \\\n",
              "0  ACADEMY STREET  WEST 204 STREET                   NaN   \n",
              "1       27 STREET        28 STREET                   NaN   \n",
              "\n",
              "  Intersection Street 2 Address Type      City Landmark Facility Type  Status  \\\n",
              "0                   NaN      ADDRESS  NEW YORK      NaN      Precinct  Closed   \n",
              "1                   NaN      ADDRESS   ASTORIA      NaN      Precinct  Closed   \n",
              "\n",
              "             Due Date                             Resolution Description  \\\n",
              "0 2016-01-01 07:59:45  The Police Department responded and upon arriv...   \n",
              "1 2016-01-01 07:59:44  The Police Department responded to the complai...   \n",
              "\n",
              "  Resolution Action Updated Date Community Board    Borough  \\\n",
              "0         01/01/2016 12:55:15 AM    12 MANHATTAN  MANHATTAN   \n",
              "1         01/01/2016 01:26:57 AM       01 QUEENS     QUEENS   \n",
              "\n",
              "   X Coordinate (State Plane)  Y Coordinate (State Plane) Park Facility Name  \\\n",
              "0                   1005409.0                    254678.0        Unspecified   \n",
              "1                   1007766.0                    221986.0        Unspecified   \n",
              "\n",
              "  Park Borough  School Name School Number School Region  School Code  \\\n",
              "0    MANHATTAN  Unspecified   Unspecified   Unspecified  Unspecified   \n",
              "1       QUEENS  Unspecified   Unspecified   Unspecified  Unspecified   \n",
              "\n",
              "  School Phone Number School Address  School City School State   School Zip  \\\n",
              "0         Unspecified    Unspecified  Unspecified  Unspecified  Unspecified   \n",
              "1         Unspecified    Unspecified  Unspecified  Unspecified  Unspecified   \n",
              "\n",
              "  School Not Found Bridge Highway Name Bridge Highway Direction Road Ramp  \\\n",
              "0                N                 NaN                      NaN       NaN   \n",
              "1                N                 NaN                      NaN       NaN   \n",
              "\n",
              "  Bridge Highway Segment Ferry Direction Ferry Terminal Name   Latitude  \\\n",
              "0                    NaN             NaN                 NaN  40.865682   \n",
              "1                    NaN             NaN                 NaN  40.775945   \n",
              "\n",
              "   Longitude                                  Location  \n",
              "0 -73.923501   (40.86568153633767, -73.92350095571744)  \n",
              "1 -73.915094  (40.775945312321085, -73.91509393898605)  "
            ],
            "text/html": [
              "\n",
              "  <div id=\"df-9049a854-e233-4451-9099-8c219ca42543\">\n",
              "    <div class=\"colab-df-container\">\n",
              "      <div>\n",
              "<style scoped>\n",
              "    .dataframe tbody tr th:only-of-type {\n",
              "        vertical-align: middle;\n",
              "    }\n",
              "\n",
              "    .dataframe tbody tr th {\n",
              "        vertical-align: top;\n",
              "    }\n",
              "\n",
              "    .dataframe thead th {\n",
              "        text-align: right;\n",
              "    }\n",
              "</style>\n",
              "<table border=\"1\" class=\"dataframe\">\n",
              "  <thead>\n",
              "    <tr style=\"text-align: right;\">\n",
              "      <th></th>\n",
              "      <th>Unique Key</th>\n",
              "      <th>Created Date</th>\n",
              "      <th>Closed Date</th>\n",
              "      <th>Agency</th>\n",
              "      <th>Agency Name</th>\n",
              "      <th>Complaint Type</th>\n",
              "      <th>Descriptor</th>\n",
              "      <th>Location Type</th>\n",
              "      <th>Incident Zip</th>\n",
              "      <th>Incident Address</th>\n",
              "      <th>Street Name</th>\n",
              "      <th>Cross Street 1</th>\n",
              "      <th>Cross Street 2</th>\n",
              "      <th>Intersection Street 1</th>\n",
              "      <th>Intersection Street 2</th>\n",
              "      <th>Address Type</th>\n",
              "      <th>City</th>\n",
              "      <th>Landmark</th>\n",
              "      <th>Facility Type</th>\n",
              "      <th>Status</th>\n",
              "      <th>Due Date</th>\n",
              "      <th>Resolution Description</th>\n",
              "      <th>Resolution Action Updated Date</th>\n",
              "      <th>Community Board</th>\n",
              "      <th>Borough</th>\n",
              "      <th>X Coordinate (State Plane)</th>\n",
              "      <th>Y Coordinate (State Plane)</th>\n",
              "      <th>Park Facility Name</th>\n",
              "      <th>Park Borough</th>\n",
              "      <th>School Name</th>\n",
              "      <th>School Number</th>\n",
              "      <th>School Region</th>\n",
              "      <th>School Code</th>\n",
              "      <th>School Phone Number</th>\n",
              "      <th>School Address</th>\n",
              "      <th>School City</th>\n",
              "      <th>School State</th>\n",
              "      <th>School Zip</th>\n",
              "      <th>School Not Found</th>\n",
              "      <th>Bridge Highway Name</th>\n",
              "      <th>Bridge Highway Direction</th>\n",
              "      <th>Road Ramp</th>\n",
              "      <th>Bridge Highway Segment</th>\n",
              "      <th>Ferry Direction</th>\n",
              "      <th>Ferry Terminal Name</th>\n",
              "      <th>Latitude</th>\n",
              "      <th>Longitude</th>\n",
              "      <th>Location</th>\n",
              "    </tr>\n",
              "  </thead>\n",
              "  <tbody>\n",
              "    <tr>\n",
              "      <th>0</th>\n",
              "      <td>32310363</td>\n",
              "      <td>2015-12-31 23:59:45</td>\n",
              "      <td>2016-01-01 00:55:15</td>\n",
              "      <td>NYPD</td>\n",
              "      <td>New York City Police Department</td>\n",
              "      <td>Noise - Street/Sidewalk</td>\n",
              "      <td>Loud Music/Party</td>\n",
              "      <td>Street/Sidewalk</td>\n",
              "      <td>10034.0</td>\n",
              "      <td>71 VERMILYEA AVENUE</td>\n",
              "      <td>VERMILYEA AVENUE</td>\n",
              "      <td>ACADEMY STREET</td>\n",
              "      <td>WEST 204 STREET</td>\n",
              "      <td>NaN</td>\n",
              "      <td>NaN</td>\n",
              "      <td>ADDRESS</td>\n",
              "      <td>NEW YORK</td>\n",
              "      <td>NaN</td>\n",
              "      <td>Precinct</td>\n",
              "      <td>Closed</td>\n",
              "      <td>2016-01-01 07:59:45</td>\n",
              "      <td>The Police Department responded and upon arriv...</td>\n",
              "      <td>01/01/2016 12:55:15 AM</td>\n",
              "      <td>12 MANHATTAN</td>\n",
              "      <td>MANHATTAN</td>\n",
              "      <td>1005409.0</td>\n",
              "      <td>254678.0</td>\n",
              "      <td>Unspecified</td>\n",
              "      <td>MANHATTAN</td>\n",
              "      <td>Unspecified</td>\n",
              "      <td>Unspecified</td>\n",
              "      <td>Unspecified</td>\n",
              "      <td>Unspecified</td>\n",
              "      <td>Unspecified</td>\n",
              "      <td>Unspecified</td>\n",
              "      <td>Unspecified</td>\n",
              "      <td>Unspecified</td>\n",
              "      <td>Unspecified</td>\n",
              "      <td>N</td>\n",
              "      <td>NaN</td>\n",
              "      <td>NaN</td>\n",
              "      <td>NaN</td>\n",
              "      <td>NaN</td>\n",
              "      <td>NaN</td>\n",
              "      <td>NaN</td>\n",
              "      <td>40.865682</td>\n",
              "      <td>-73.923501</td>\n",
              "      <td>(40.86568153633767, -73.92350095571744)</td>\n",
              "    </tr>\n",
              "    <tr>\n",
              "      <th>1</th>\n",
              "      <td>32309934</td>\n",
              "      <td>2015-12-31 23:59:44</td>\n",
              "      <td>2016-01-01 01:26:57</td>\n",
              "      <td>NYPD</td>\n",
              "      <td>New York City Police Department</td>\n",
              "      <td>Blocked Driveway</td>\n",
              "      <td>No Access</td>\n",
              "      <td>Street/Sidewalk</td>\n",
              "      <td>11105.0</td>\n",
              "      <td>27-07 23 AVENUE</td>\n",
              "      <td>23 AVENUE</td>\n",
              "      <td>27 STREET</td>\n",
              "      <td>28 STREET</td>\n",
              "      <td>NaN</td>\n",
              "      <td>NaN</td>\n",
              "      <td>ADDRESS</td>\n",
              "      <td>ASTORIA</td>\n",
              "      <td>NaN</td>\n",
              "      <td>Precinct</td>\n",
              "      <td>Closed</td>\n",
              "      <td>2016-01-01 07:59:44</td>\n",
              "      <td>The Police Department responded to the complai...</td>\n",
              "      <td>01/01/2016 01:26:57 AM</td>\n",
              "      <td>01 QUEENS</td>\n",
              "      <td>QUEENS</td>\n",
              "      <td>1007766.0</td>\n",
              "      <td>221986.0</td>\n",
              "      <td>Unspecified</td>\n",
              "      <td>QUEENS</td>\n",
              "      <td>Unspecified</td>\n",
              "      <td>Unspecified</td>\n",
              "      <td>Unspecified</td>\n",
              "      <td>Unspecified</td>\n",
              "      <td>Unspecified</td>\n",
              "      <td>Unspecified</td>\n",
              "      <td>Unspecified</td>\n",
              "      <td>Unspecified</td>\n",
              "      <td>Unspecified</td>\n",
              "      <td>N</td>\n",
              "      <td>NaN</td>\n",
              "      <td>NaN</td>\n",
              "      <td>NaN</td>\n",
              "      <td>NaN</td>\n",
              "      <td>NaN</td>\n",
              "      <td>NaN</td>\n",
              "      <td>40.775945</td>\n",
              "      <td>-73.915094</td>\n",
              "      <td>(40.775945312321085, -73.91509393898605)</td>\n",
              "    </tr>\n",
              "  </tbody>\n",
              "</table>\n",
              "</div>\n",
              "      <button class=\"colab-df-convert\" onclick=\"convertToInteractive('df-9049a854-e233-4451-9099-8c219ca42543')\"\n",
              "              title=\"Convert this dataframe to an interactive table.\"\n",
              "              style=\"display:none;\">\n",
              "        \n",
              "  <svg xmlns=\"http://www.w3.org/2000/svg\" height=\"24px\"viewBox=\"0 0 24 24\"\n",
              "       width=\"24px\">\n",
              "    <path d=\"M0 0h24v24H0V0z\" fill=\"none\"/>\n",
              "    <path d=\"M18.56 5.44l.94 2.06.94-2.06 2.06-.94-2.06-.94-.94-2.06-.94 2.06-2.06.94zm-11 1L8.5 8.5l.94-2.06 2.06-.94-2.06-.94L8.5 2.5l-.94 2.06-2.06.94zm10 10l.94 2.06.94-2.06 2.06-.94-2.06-.94-.94-2.06-.94 2.06-2.06.94z\"/><path d=\"M17.41 7.96l-1.37-1.37c-.4-.4-.92-.59-1.43-.59-.52 0-1.04.2-1.43.59L10.3 9.45l-7.72 7.72c-.78.78-.78 2.05 0 2.83L4 21.41c.39.39.9.59 1.41.59.51 0 1.02-.2 1.41-.59l7.78-7.78 2.81-2.81c.8-.78.8-2.07 0-2.86zM5.41 20L4 18.59l7.72-7.72 1.47 1.35L5.41 20z\"/>\n",
              "  </svg>\n",
              "      </button>\n",
              "      \n",
              "  <style>\n",
              "    .colab-df-container {\n",
              "      display:flex;\n",
              "      flex-wrap:wrap;\n",
              "      gap: 12px;\n",
              "    }\n",
              "\n",
              "    .colab-df-convert {\n",
              "      background-color: #E8F0FE;\n",
              "      border: none;\n",
              "      border-radius: 50%;\n",
              "      cursor: pointer;\n",
              "      display: none;\n",
              "      fill: #1967D2;\n",
              "      height: 32px;\n",
              "      padding: 0 0 0 0;\n",
              "      width: 32px;\n",
              "    }\n",
              "\n",
              "    .colab-df-convert:hover {\n",
              "      background-color: #E2EBFA;\n",
              "      box-shadow: 0px 1px 2px rgba(60, 64, 67, 0.3), 0px 1px 3px 1px rgba(60, 64, 67, 0.15);\n",
              "      fill: #174EA6;\n",
              "    }\n",
              "\n",
              "    [theme=dark] .colab-df-convert {\n",
              "      background-color: #3B4455;\n",
              "      fill: #D2E3FC;\n",
              "    }\n",
              "\n",
              "    [theme=dark] .colab-df-convert:hover {\n",
              "      background-color: #434B5C;\n",
              "      box-shadow: 0px 1px 3px 1px rgba(0, 0, 0, 0.15);\n",
              "      filter: drop-shadow(0px 1px 2px rgba(0, 0, 0, 0.3));\n",
              "      fill: #FFFFFF;\n",
              "    }\n",
              "  </style>\n",
              "\n",
              "      <script>\n",
              "        const buttonEl =\n",
              "          document.querySelector('#df-9049a854-e233-4451-9099-8c219ca42543 button.colab-df-convert');\n",
              "        buttonEl.style.display =\n",
              "          google.colab.kernel.accessAllowed ? 'block' : 'none';\n",
              "\n",
              "        async function convertToInteractive(key) {\n",
              "          const element = document.querySelector('#df-9049a854-e233-4451-9099-8c219ca42543');\n",
              "          const dataTable =\n",
              "            await google.colab.kernel.invokeFunction('convertToInteractive',\n",
              "                                                     [key], {});\n",
              "          if (!dataTable) return;\n",
              "\n",
              "          const docLinkHtml = 'Like what you see? Visit the ' +\n",
              "            '<a target=\"_blank\" href=https://colab.research.google.com/notebooks/data_table.ipynb>data table notebook</a>'\n",
              "            + ' to learn more about interactive tables.';\n",
              "          element.innerHTML = '';\n",
              "          dataTable['output_type'] = 'display_data';\n",
              "          await google.colab.output.renderOutput(dataTable, element);\n",
              "          const docLink = document.createElement('div');\n",
              "          docLink.innerHTML = docLinkHtml;\n",
              "          element.appendChild(docLink);\n",
              "        }\n",
              "      </script>\n",
              "    </div>\n",
              "  </div>\n",
              "  "
            ]
          },
          "metadata": {},
          "execution_count": 423
        }
      ],
      "source": [
        "cmr_service_df.head(2)"
      ]
    },
    {
      "cell_type": "code",
      "execution_count": null,
      "metadata": {
        "id": "s-D0ZHUegLiB"
      },
      "outputs": [],
      "source": [
        "cmr_service_df.drop([\"Intersection Street 1\",\"Intersection Street 2\",\"Landmark\"],axis=1,inplace =True)"
      ]
    },
    {
      "cell_type": "code",
      "execution_count": null,
      "metadata": {
        "id": "MuaIBPUEh-TY",
        "colab": {
          "base_uri": "https://localhost:8080/"
        },
        "outputId": "dfdbfeaf-f300-4a6f-e425-18d2bf237a4c"
      },
      "outputs": [
        {
          "output_type": "execute_result",
          "data": {
            "text/plain": [
              "(364558, 45)"
            ]
          },
          "metadata": {},
          "execution_count": 425
        }
      ],
      "source": [
        "cmr_service_df.shape"
      ]
    },
    {
      "cell_type": "code",
      "execution_count": null,
      "metadata": {
        "id": "1c9jYo6NiSH4"
      },
      "outputs": [],
      "source": [
        "# need to check columns more and then delete if required."
      ]
    },
    {
      "cell_type": "code",
      "execution_count": null,
      "metadata": {
        "id": "2ewgXfy3itWE",
        "colab": {
          "base_uri": "https://localhost:8080/",
          "height": 350
        },
        "outputId": "4db3165c-880b-41b5-d76b-4a40c5b46d1f"
      },
      "outputs": [
        {
          "output_type": "execute_result",
          "data": {
            "text/plain": [
              "   Unique Key        Created Date         Closed Date Agency  \\\n",
              "0    32310363 2015-12-31 23:59:45 2016-01-01 00:55:15   NYPD   \n",
              "1    32309934 2015-12-31 23:59:44 2016-01-01 01:26:57   NYPD   \n",
              "\n",
              "                       Agency Name           Complaint Type        Descriptor  \\\n",
              "0  New York City Police Department  Noise - Street/Sidewalk  Loud Music/Party   \n",
              "1  New York City Police Department         Blocked Driveway         No Access   \n",
              "\n",
              "     Location Type  Incident Zip     Incident Address       Street Name  \\\n",
              "0  Street/Sidewalk       10034.0  71 VERMILYEA AVENUE  VERMILYEA AVENUE   \n",
              "1  Street/Sidewalk       11105.0      27-07 23 AVENUE         23 AVENUE   \n",
              "\n",
              "   Cross Street 1   Cross Street 2 Address Type      City Facility Type  \\\n",
              "0  ACADEMY STREET  WEST 204 STREET      ADDRESS  NEW YORK      Precinct   \n",
              "1       27 STREET        28 STREET      ADDRESS   ASTORIA      Precinct   \n",
              "\n",
              "   Status            Due Date  \\\n",
              "0  Closed 2016-01-01 07:59:45   \n",
              "1  Closed 2016-01-01 07:59:44   \n",
              "\n",
              "                              Resolution Description  \\\n",
              "0  The Police Department responded and upon arriv...   \n",
              "1  The Police Department responded to the complai...   \n",
              "\n",
              "  Resolution Action Updated Date Community Board    Borough  \\\n",
              "0         01/01/2016 12:55:15 AM    12 MANHATTAN  MANHATTAN   \n",
              "1         01/01/2016 01:26:57 AM       01 QUEENS     QUEENS   \n",
              "\n",
              "   X Coordinate (State Plane)  Y Coordinate (State Plane) Park Facility Name  \\\n",
              "0                   1005409.0                    254678.0        Unspecified   \n",
              "1                   1007766.0                    221986.0        Unspecified   \n",
              "\n",
              "  Park Borough  School Name School Number School Region  School Code  \\\n",
              "0    MANHATTAN  Unspecified   Unspecified   Unspecified  Unspecified   \n",
              "1       QUEENS  Unspecified   Unspecified   Unspecified  Unspecified   \n",
              "\n",
              "  School Phone Number School Address  School City School State   School Zip  \\\n",
              "0         Unspecified    Unspecified  Unspecified  Unspecified  Unspecified   \n",
              "1         Unspecified    Unspecified  Unspecified  Unspecified  Unspecified   \n",
              "\n",
              "  School Not Found Bridge Highway Name Bridge Highway Direction Road Ramp  \\\n",
              "0                N                 NaN                      NaN       NaN   \n",
              "1                N                 NaN                      NaN       NaN   \n",
              "\n",
              "  Bridge Highway Segment Ferry Direction Ferry Terminal Name   Latitude  \\\n",
              "0                    NaN             NaN                 NaN  40.865682   \n",
              "1                    NaN             NaN                 NaN  40.775945   \n",
              "\n",
              "   Longitude                                  Location  \n",
              "0 -73.923501   (40.86568153633767, -73.92350095571744)  \n",
              "1 -73.915094  (40.775945312321085, -73.91509393898605)  "
            ],
            "text/html": [
              "\n",
              "  <div id=\"df-21440197-7f42-40bf-b3a1-fb52fa8c93ca\">\n",
              "    <div class=\"colab-df-container\">\n",
              "      <div>\n",
              "<style scoped>\n",
              "    .dataframe tbody tr th:only-of-type {\n",
              "        vertical-align: middle;\n",
              "    }\n",
              "\n",
              "    .dataframe tbody tr th {\n",
              "        vertical-align: top;\n",
              "    }\n",
              "\n",
              "    .dataframe thead th {\n",
              "        text-align: right;\n",
              "    }\n",
              "</style>\n",
              "<table border=\"1\" class=\"dataframe\">\n",
              "  <thead>\n",
              "    <tr style=\"text-align: right;\">\n",
              "      <th></th>\n",
              "      <th>Unique Key</th>\n",
              "      <th>Created Date</th>\n",
              "      <th>Closed Date</th>\n",
              "      <th>Agency</th>\n",
              "      <th>Agency Name</th>\n",
              "      <th>Complaint Type</th>\n",
              "      <th>Descriptor</th>\n",
              "      <th>Location Type</th>\n",
              "      <th>Incident Zip</th>\n",
              "      <th>Incident Address</th>\n",
              "      <th>Street Name</th>\n",
              "      <th>Cross Street 1</th>\n",
              "      <th>Cross Street 2</th>\n",
              "      <th>Address Type</th>\n",
              "      <th>City</th>\n",
              "      <th>Facility Type</th>\n",
              "      <th>Status</th>\n",
              "      <th>Due Date</th>\n",
              "      <th>Resolution Description</th>\n",
              "      <th>Resolution Action Updated Date</th>\n",
              "      <th>Community Board</th>\n",
              "      <th>Borough</th>\n",
              "      <th>X Coordinate (State Plane)</th>\n",
              "      <th>Y Coordinate (State Plane)</th>\n",
              "      <th>Park Facility Name</th>\n",
              "      <th>Park Borough</th>\n",
              "      <th>School Name</th>\n",
              "      <th>School Number</th>\n",
              "      <th>School Region</th>\n",
              "      <th>School Code</th>\n",
              "      <th>School Phone Number</th>\n",
              "      <th>School Address</th>\n",
              "      <th>School City</th>\n",
              "      <th>School State</th>\n",
              "      <th>School Zip</th>\n",
              "      <th>School Not Found</th>\n",
              "      <th>Bridge Highway Name</th>\n",
              "      <th>Bridge Highway Direction</th>\n",
              "      <th>Road Ramp</th>\n",
              "      <th>Bridge Highway Segment</th>\n",
              "      <th>Ferry Direction</th>\n",
              "      <th>Ferry Terminal Name</th>\n",
              "      <th>Latitude</th>\n",
              "      <th>Longitude</th>\n",
              "      <th>Location</th>\n",
              "    </tr>\n",
              "  </thead>\n",
              "  <tbody>\n",
              "    <tr>\n",
              "      <th>0</th>\n",
              "      <td>32310363</td>\n",
              "      <td>2015-12-31 23:59:45</td>\n",
              "      <td>2016-01-01 00:55:15</td>\n",
              "      <td>NYPD</td>\n",
              "      <td>New York City Police Department</td>\n",
              "      <td>Noise - Street/Sidewalk</td>\n",
              "      <td>Loud Music/Party</td>\n",
              "      <td>Street/Sidewalk</td>\n",
              "      <td>10034.0</td>\n",
              "      <td>71 VERMILYEA AVENUE</td>\n",
              "      <td>VERMILYEA AVENUE</td>\n",
              "      <td>ACADEMY STREET</td>\n",
              "      <td>WEST 204 STREET</td>\n",
              "      <td>ADDRESS</td>\n",
              "      <td>NEW YORK</td>\n",
              "      <td>Precinct</td>\n",
              "      <td>Closed</td>\n",
              "      <td>2016-01-01 07:59:45</td>\n",
              "      <td>The Police Department responded and upon arriv...</td>\n",
              "      <td>01/01/2016 12:55:15 AM</td>\n",
              "      <td>12 MANHATTAN</td>\n",
              "      <td>MANHATTAN</td>\n",
              "      <td>1005409.0</td>\n",
              "      <td>254678.0</td>\n",
              "      <td>Unspecified</td>\n",
              "      <td>MANHATTAN</td>\n",
              "      <td>Unspecified</td>\n",
              "      <td>Unspecified</td>\n",
              "      <td>Unspecified</td>\n",
              "      <td>Unspecified</td>\n",
              "      <td>Unspecified</td>\n",
              "      <td>Unspecified</td>\n",
              "      <td>Unspecified</td>\n",
              "      <td>Unspecified</td>\n",
              "      <td>Unspecified</td>\n",
              "      <td>N</td>\n",
              "      <td>NaN</td>\n",
              "      <td>NaN</td>\n",
              "      <td>NaN</td>\n",
              "      <td>NaN</td>\n",
              "      <td>NaN</td>\n",
              "      <td>NaN</td>\n",
              "      <td>40.865682</td>\n",
              "      <td>-73.923501</td>\n",
              "      <td>(40.86568153633767, -73.92350095571744)</td>\n",
              "    </tr>\n",
              "    <tr>\n",
              "      <th>1</th>\n",
              "      <td>32309934</td>\n",
              "      <td>2015-12-31 23:59:44</td>\n",
              "      <td>2016-01-01 01:26:57</td>\n",
              "      <td>NYPD</td>\n",
              "      <td>New York City Police Department</td>\n",
              "      <td>Blocked Driveway</td>\n",
              "      <td>No Access</td>\n",
              "      <td>Street/Sidewalk</td>\n",
              "      <td>11105.0</td>\n",
              "      <td>27-07 23 AVENUE</td>\n",
              "      <td>23 AVENUE</td>\n",
              "      <td>27 STREET</td>\n",
              "      <td>28 STREET</td>\n",
              "      <td>ADDRESS</td>\n",
              "      <td>ASTORIA</td>\n",
              "      <td>Precinct</td>\n",
              "      <td>Closed</td>\n",
              "      <td>2016-01-01 07:59:44</td>\n",
              "      <td>The Police Department responded to the complai...</td>\n",
              "      <td>01/01/2016 01:26:57 AM</td>\n",
              "      <td>01 QUEENS</td>\n",
              "      <td>QUEENS</td>\n",
              "      <td>1007766.0</td>\n",
              "      <td>221986.0</td>\n",
              "      <td>Unspecified</td>\n",
              "      <td>QUEENS</td>\n",
              "      <td>Unspecified</td>\n",
              "      <td>Unspecified</td>\n",
              "      <td>Unspecified</td>\n",
              "      <td>Unspecified</td>\n",
              "      <td>Unspecified</td>\n",
              "      <td>Unspecified</td>\n",
              "      <td>Unspecified</td>\n",
              "      <td>Unspecified</td>\n",
              "      <td>Unspecified</td>\n",
              "      <td>N</td>\n",
              "      <td>NaN</td>\n",
              "      <td>NaN</td>\n",
              "      <td>NaN</td>\n",
              "      <td>NaN</td>\n",
              "      <td>NaN</td>\n",
              "      <td>NaN</td>\n",
              "      <td>40.775945</td>\n",
              "      <td>-73.915094</td>\n",
              "      <td>(40.775945312321085, -73.91509393898605)</td>\n",
              "    </tr>\n",
              "  </tbody>\n",
              "</table>\n",
              "</div>\n",
              "      <button class=\"colab-df-convert\" onclick=\"convertToInteractive('df-21440197-7f42-40bf-b3a1-fb52fa8c93ca')\"\n",
              "              title=\"Convert this dataframe to an interactive table.\"\n",
              "              style=\"display:none;\">\n",
              "        \n",
              "  <svg xmlns=\"http://www.w3.org/2000/svg\" height=\"24px\"viewBox=\"0 0 24 24\"\n",
              "       width=\"24px\">\n",
              "    <path d=\"M0 0h24v24H0V0z\" fill=\"none\"/>\n",
              "    <path d=\"M18.56 5.44l.94 2.06.94-2.06 2.06-.94-2.06-.94-.94-2.06-.94 2.06-2.06.94zm-11 1L8.5 8.5l.94-2.06 2.06-.94-2.06-.94L8.5 2.5l-.94 2.06-2.06.94zm10 10l.94 2.06.94-2.06 2.06-.94-2.06-.94-.94-2.06-.94 2.06-2.06.94z\"/><path d=\"M17.41 7.96l-1.37-1.37c-.4-.4-.92-.59-1.43-.59-.52 0-1.04.2-1.43.59L10.3 9.45l-7.72 7.72c-.78.78-.78 2.05 0 2.83L4 21.41c.39.39.9.59 1.41.59.51 0 1.02-.2 1.41-.59l7.78-7.78 2.81-2.81c.8-.78.8-2.07 0-2.86zM5.41 20L4 18.59l7.72-7.72 1.47 1.35L5.41 20z\"/>\n",
              "  </svg>\n",
              "      </button>\n",
              "      \n",
              "  <style>\n",
              "    .colab-df-container {\n",
              "      display:flex;\n",
              "      flex-wrap:wrap;\n",
              "      gap: 12px;\n",
              "    }\n",
              "\n",
              "    .colab-df-convert {\n",
              "      background-color: #E8F0FE;\n",
              "      border: none;\n",
              "      border-radius: 50%;\n",
              "      cursor: pointer;\n",
              "      display: none;\n",
              "      fill: #1967D2;\n",
              "      height: 32px;\n",
              "      padding: 0 0 0 0;\n",
              "      width: 32px;\n",
              "    }\n",
              "\n",
              "    .colab-df-convert:hover {\n",
              "      background-color: #E2EBFA;\n",
              "      box-shadow: 0px 1px 2px rgba(60, 64, 67, 0.3), 0px 1px 3px 1px rgba(60, 64, 67, 0.15);\n",
              "      fill: #174EA6;\n",
              "    }\n",
              "\n",
              "    [theme=dark] .colab-df-convert {\n",
              "      background-color: #3B4455;\n",
              "      fill: #D2E3FC;\n",
              "    }\n",
              "\n",
              "    [theme=dark] .colab-df-convert:hover {\n",
              "      background-color: #434B5C;\n",
              "      box-shadow: 0px 1px 3px 1px rgba(0, 0, 0, 0.15);\n",
              "      filter: drop-shadow(0px 1px 2px rgba(0, 0, 0, 0.3));\n",
              "      fill: #FFFFFF;\n",
              "    }\n",
              "  </style>\n",
              "\n",
              "      <script>\n",
              "        const buttonEl =\n",
              "          document.querySelector('#df-21440197-7f42-40bf-b3a1-fb52fa8c93ca button.colab-df-convert');\n",
              "        buttonEl.style.display =\n",
              "          google.colab.kernel.accessAllowed ? 'block' : 'none';\n",
              "\n",
              "        async function convertToInteractive(key) {\n",
              "          const element = document.querySelector('#df-21440197-7f42-40bf-b3a1-fb52fa8c93ca');\n",
              "          const dataTable =\n",
              "            await google.colab.kernel.invokeFunction('convertToInteractive',\n",
              "                                                     [key], {});\n",
              "          if (!dataTable) return;\n",
              "\n",
              "          const docLinkHtml = 'Like what you see? Visit the ' +\n",
              "            '<a target=\"_blank\" href=https://colab.research.google.com/notebooks/data_table.ipynb>data table notebook</a>'\n",
              "            + ' to learn more about interactive tables.';\n",
              "          element.innerHTML = '';\n",
              "          dataTable['output_type'] = 'display_data';\n",
              "          await google.colab.output.renderOutput(dataTable, element);\n",
              "          const docLink = document.createElement('div');\n",
              "          docLink.innerHTML = docLinkHtml;\n",
              "          element.appendChild(docLink);\n",
              "        }\n",
              "      </script>\n",
              "    </div>\n",
              "  </div>\n",
              "  "
            ]
          },
          "metadata": {},
          "execution_count": 427
        }
      ],
      "source": [
        "cmr_service_df.head(2)"
      ]
    },
    {
      "cell_type": "code",
      "execution_count": null,
      "metadata": {
        "id": "q7qI6S0tijU4"
      },
      "outputs": [],
      "source": [
        "# cmr_service_df[\"Park Facility Name\"][0:25]"
      ]
    },
    {
      "cell_type": "code",
      "execution_count": null,
      "metadata": {
        "id": "EGu13O6FjAuG"
      },
      "outputs": [],
      "source": []
    },
    {
      "cell_type": "code",
      "execution_count": null,
      "metadata": {
        "id": "9wIE5IYfjMjC"
      },
      "outputs": [],
      "source": [
        "#cmr_service_df[\"School Name\"][0:25]"
      ]
    },
    {
      "cell_type": "markdown",
      "metadata": {
        "id": "aANOmzmujaCU"
      },
      "source": [
        "# Those columns with unspecified values are not giving any insight, better to delete them."
      ]
    },
    {
      "cell_type": "code",
      "execution_count": null,
      "metadata": {
        "id": "11MCJgeLjTol"
      },
      "outputs": [],
      "source": [
        "cmr_service_df.drop([\"Park Facility Name\",\"School Name\",\"School Number\",\t\"School Region\",\t\"School Code\",\t\"School Phone Number\",\t\"School Address\",\t\"School City\",\t\"School State\",\t\"School Zip\"], axis =1, inplace =True)"
      ]
    },
    {
      "cell_type": "code",
      "execution_count": null,
      "metadata": {
        "id": "CT9w1kaUkcNV",
        "colab": {
          "base_uri": "https://localhost:8080/"
        },
        "outputId": "39438667-d452-4d5e-96aa-32c35aa82517"
      },
      "outputs": [
        {
          "output_type": "execute_result",
          "data": {
            "text/plain": [
              "(364558, 35)"
            ]
          },
          "metadata": {},
          "execution_count": 431
        }
      ],
      "source": [
        "cmr_service_df.shape"
      ]
    },
    {
      "cell_type": "code",
      "execution_count": null,
      "metadata": {
        "id": "jdw7oCsOkgSs"
      },
      "outputs": [],
      "source": [
        "# cmr_service_df[\"Bridge Highway Name\"][0:25]"
      ]
    },
    {
      "cell_type": "code",
      "execution_count": null,
      "metadata": {
        "id": "s5RYg5l_lq5a"
      },
      "outputs": [],
      "source": [
        "#cmr_service_df[\"Ferry Direction\"][0:25]"
      ]
    },
    {
      "cell_type": "code",
      "execution_count": null,
      "metadata": {
        "id": "WQikCloXk17D"
      },
      "outputs": [],
      "source": [
        "# These 6 columns related to bridge and ferry has no values. Better to delete."
      ]
    },
    {
      "cell_type": "code",
      "execution_count": null,
      "metadata": {
        "id": "hXtKUUYcmC2l"
      },
      "outputs": [],
      "source": [
        "cmr_service_df.drop([\"School Not Found\",\t\"Bridge Highway Name\",\t\"Bridge Highway Direction\",\t\"Road Ramp\",\t\"Bridge Highway Segment\",\t\"Ferry Direction\",\t\"Ferry Terminal Name\"],axis = 1, inplace =True)"
      ]
    },
    {
      "cell_type": "code",
      "execution_count": null,
      "metadata": {
        "id": "T-QLZU9emh5Y"
      },
      "outputs": [],
      "source": []
    },
    {
      "cell_type": "code",
      "execution_count": null,
      "metadata": {
        "id": "1N92oK7Mmuic",
        "colab": {
          "base_uri": "https://localhost:8080/"
        },
        "outputId": "ae665ed0-dc56-4014-f290-32e5d1494c08"
      },
      "outputs": [
        {
          "output_type": "execute_result",
          "data": {
            "text/plain": [
              "(364558, 28)"
            ]
          },
          "metadata": {},
          "execution_count": 436
        }
      ],
      "source": [
        "cmr_service_df.shape"
      ]
    },
    {
      "cell_type": "code",
      "execution_count": null,
      "metadata": {
        "id": "1yQ_B9oDmxgC"
      },
      "outputs": [],
      "source": [
        "# There are now 28 columns. Check null values now after deleting 25 columns"
      ]
    },
    {
      "cell_type": "code",
      "execution_count": null,
      "metadata": {
        "id": "CHimtwgnnGnT",
        "colab": {
          "base_uri": "https://localhost:8080/"
        },
        "outputId": "cf2d8f2b-5dbb-424c-dc20-baa1b47bb623"
      },
      "outputs": [
        {
          "output_type": "execute_result",
          "data": {
            "text/plain": [
              "Unique Key                            0\n",
              "Created Date                          0\n",
              "Closed Date                        2381\n",
              "Agency                                0\n",
              "Agency Name                           0\n",
              "Complaint Type                        0\n",
              "Descriptor                         6501\n",
              "Location Type                       133\n",
              "Incident Zip                       2998\n",
              "Incident Address                  51699\n",
              "Street Name                       51699\n",
              "Cross Street 1                    57188\n",
              "Cross Street 2                    57805\n",
              "Address Type                       3252\n",
              "City                               2997\n",
              "Facility Type                      2389\n",
              "Status                                0\n",
              "Due Date                              3\n",
              "Resolution Description                0\n",
              "Resolution Action Updated Date     2402\n",
              "Community Board                       0\n",
              "Borough                               0\n",
              "X Coordinate (State Plane)         4030\n",
              "Y Coordinate (State Plane)         4030\n",
              "Park Borough                          0\n",
              "Latitude                           4030\n",
              "Longitude                          4030\n",
              "Location                           4030\n",
              "dtype: int64"
            ]
          },
          "metadata": {},
          "execution_count": 438
        }
      ],
      "source": [
        "cmr_service_df.isnull().sum()"
      ]
    },
    {
      "cell_type": "code",
      "execution_count": null,
      "metadata": {
        "id": "g-iooCmyo9Ru"
      },
      "outputs": [],
      "source": [
        "# check the percentage of null values in dataset. So that we can decide whether we should delete those rows or do missing value treatment."
      ]
    },
    {
      "cell_type": "code",
      "execution_count": null,
      "metadata": {
        "id": "sP4mK2SIoJOA",
        "colab": {
          "base_uri": "https://localhost:8080/"
        },
        "outputId": "c5bc0625-865d-4257-8366-3cc5d252e945"
      },
      "outputs": [
        {
          "output_type": "execute_result",
          "data": {
            "text/plain": [
              "Unique Key                         0.00\n",
              "Created Date                       0.00\n",
              "Closed Date                        0.65\n",
              "Agency                             0.00\n",
              "Agency Name                        0.00\n",
              "Complaint Type                     0.00\n",
              "Descriptor                         1.78\n",
              "Location Type                      0.04\n",
              "Incident Zip                       0.82\n",
              "Incident Address                  14.18\n",
              "Street Name                       14.18\n",
              "Cross Street 1                    15.69\n",
              "Cross Street 2                    15.86\n",
              "Address Type                       0.89\n",
              "City                               0.82\n",
              "Facility Type                      0.66\n",
              "Status                             0.00\n",
              "Due Date                           0.00\n",
              "Resolution Description             0.00\n",
              "Resolution Action Updated Date     0.66\n",
              "Community Board                    0.00\n",
              "Borough                            0.00\n",
              "X Coordinate (State Plane)         1.11\n",
              "Y Coordinate (State Plane)         1.11\n",
              "Park Borough                       0.00\n",
              "Latitude                           1.11\n",
              "Longitude                          1.11\n",
              "Location                           1.11\n",
              "dtype: float64"
            ]
          },
          "metadata": {},
          "execution_count": 440
        }
      ],
      "source": [
        "round(cmr_service_df.isnull().sum()/cmr_service_df.shape[0]*100, 2)"
      ]
    },
    {
      "cell_type": "code",
      "execution_count": null,
      "metadata": {
        "id": "DZdkcr2Fo6C-"
      },
      "outputs": [],
      "source": [
        "# Nan is less than  20% in any column. So, WE can go for deleting these null rows."
      ]
    },
    {
      "cell_type": "code",
      "execution_count": null,
      "metadata": {
        "id": "Vcn9FZZBqE2p"
      },
      "outputs": [],
      "source": [
        "cmr_service_df.dropna(axis= 0,inplace=True)"
      ]
    },
    {
      "cell_type": "code",
      "execution_count": null,
      "metadata": {
        "id": "dfMrpk-NrlLv",
        "colab": {
          "base_uri": "https://localhost:8080/"
        },
        "outputId": "3d743fa2-8610-4ca1-9cdb-4c16a6ffb03e"
      },
      "outputs": [
        {
          "output_type": "execute_result",
          "data": {
            "text/plain": [
              "(300932, 28)"
            ]
          },
          "metadata": {},
          "execution_count": 443
        }
      ],
      "source": [
        "cmr_service_df.shape"
      ]
    },
    {
      "cell_type": "code",
      "execution_count": null,
      "metadata": {
        "id": "yLeMJXSIrrfi",
        "colab": {
          "base_uri": "https://localhost:8080/"
        },
        "outputId": "31d266c3-6f83-4a29-d296-253c14e6f8b2"
      },
      "outputs": [
        {
          "output_type": "execute_result",
          "data": {
            "text/plain": [
              "Unique Key                        False\n",
              "Created Date                      False\n",
              "Closed Date                       False\n",
              "Agency                            False\n",
              "Agency Name                       False\n",
              "Complaint Type                    False\n",
              "Descriptor                        False\n",
              "Location Type                     False\n",
              "Incident Zip                      False\n",
              "Incident Address                  False\n",
              "Street Name                       False\n",
              "Cross Street 1                    False\n",
              "Cross Street 2                    False\n",
              "Address Type                      False\n",
              "City                              False\n",
              "Facility Type                     False\n",
              "Status                            False\n",
              "Due Date                          False\n",
              "Resolution Description            False\n",
              "Resolution Action Updated Date    False\n",
              "Community Board                   False\n",
              "Borough                           False\n",
              "X Coordinate (State Plane)        False\n",
              "Y Coordinate (State Plane)        False\n",
              "Park Borough                      False\n",
              "Latitude                          False\n",
              "Longitude                         False\n",
              "Location                          False\n",
              "dtype: bool"
            ]
          },
          "metadata": {},
          "execution_count": 444
        }
      ],
      "source": [
        "cmr_service_df.isna().any()"
      ]
    },
    {
      "cell_type": "code",
      "execution_count": null,
      "metadata": {
        "id": "f6GERt6mrzyq"
      },
      "outputs": [],
      "source": [
        "# There is no missing value in dataset"
      ]
    },
    {
      "cell_type": "code",
      "execution_count": null,
      "metadata": {
        "id": "lAl9kK0UsWy8"
      },
      "outputs": [],
      "source": []
    },
    {
      "cell_type": "markdown",
      "metadata": {
        "id": "H2sTgYbmiPNk"
      },
      "source": [
        "# Now work on date time columns to get request closing time and other complain types"
      ]
    },
    {
      "cell_type": "code",
      "execution_count": null,
      "metadata": {
        "id": "Iz2XsF46ii6Q"
      },
      "outputs": [],
      "source": [
        "cmr_service_df[\"Request_Closing_Time\"] = cmr_service_df[\"Closed Date\"] - cmr_service_df[\"Created Date\"]"
      ]
    },
    {
      "cell_type": "code",
      "execution_count": null,
      "metadata": {
        "id": "cYQMjH2pirij",
        "colab": {
          "base_uri": "https://localhost:8080/",
          "height": 634
        },
        "outputId": "4f436a04-d94b-4708-a631-91cacd065511"
      },
      "outputs": [
        {
          "output_type": "execute_result",
          "data": {
            "text/plain": [
              "   Unique Key        Created Date         Closed Date Agency  \\\n",
              "0    32310363 2015-12-31 23:59:45 2016-01-01 00:55:15   NYPD   \n",
              "1    32309934 2015-12-31 23:59:44 2016-01-01 01:26:57   NYPD   \n",
              "2    32309159 2015-12-31 23:59:29 2016-01-01 04:51:03   NYPD   \n",
              "3    32305098 2015-12-31 23:57:46 2016-01-01 07:43:13   NYPD   \n",
              "4    32306529 2015-12-31 23:56:58 2016-01-01 03:24:42   NYPD   \n",
              "\n",
              "                       Agency Name           Complaint Type  \\\n",
              "0  New York City Police Department  Noise - Street/Sidewalk   \n",
              "1  New York City Police Department         Blocked Driveway   \n",
              "2  New York City Police Department         Blocked Driveway   \n",
              "3  New York City Police Department          Illegal Parking   \n",
              "4  New York City Police Department          Illegal Parking   \n",
              "\n",
              "                     Descriptor    Location Type  Incident Zip  \\\n",
              "0              Loud Music/Party  Street/Sidewalk       10034.0   \n",
              "1                     No Access  Street/Sidewalk       11105.0   \n",
              "2                     No Access  Street/Sidewalk       10458.0   \n",
              "3  Commercial Overnight Parking  Street/Sidewalk       10461.0   \n",
              "4              Blocked Sidewalk  Street/Sidewalk       11373.0   \n",
              "\n",
              "        Incident Address       Street Name   Cross Street 1   Cross Street 2  \\\n",
              "0    71 VERMILYEA AVENUE  VERMILYEA AVENUE   ACADEMY STREET  WEST 204 STREET   \n",
              "1        27-07 23 AVENUE         23 AVENUE        27 STREET        28 STREET   \n",
              "2  2897 VALENTINE AVENUE  VALENTINE AVENUE  EAST 198 STREET  EAST 199 STREET   \n",
              "3    2940 BAISLEY AVENUE    BAISLEY AVENUE    EDISON AVENUE         B STREET   \n",
              "4          87-14 57 ROAD           57 ROAD   SEABURY STREET    HOFFMAN DRIVE   \n",
              "\n",
              "  Address Type      City Facility Type  Status            Due Date  \\\n",
              "0      ADDRESS  NEW YORK      Precinct  Closed 2016-01-01 07:59:45   \n",
              "1      ADDRESS   ASTORIA      Precinct  Closed 2016-01-01 07:59:44   \n",
              "2      ADDRESS     BRONX      Precinct  Closed 2016-01-01 07:59:29   \n",
              "3      ADDRESS     BRONX      Precinct  Closed 2016-01-01 07:57:46   \n",
              "4      ADDRESS  ELMHURST      Precinct  Closed 2016-01-01 07:56:58   \n",
              "\n",
              "                              Resolution Description  \\\n",
              "0  The Police Department responded and upon arriv...   \n",
              "1  The Police Department responded to the complai...   \n",
              "2  The Police Department responded and upon arriv...   \n",
              "3  The Police Department responded to the complai...   \n",
              "4  The Police Department responded and upon arriv...   \n",
              "\n",
              "  Resolution Action Updated Date Community Board    Borough  \\\n",
              "0         01/01/2016 12:55:15 AM    12 MANHATTAN  MANHATTAN   \n",
              "1         01/01/2016 01:26:57 AM       01 QUEENS     QUEENS   \n",
              "2         01/01/2016 04:51:03 AM        07 BRONX      BRONX   \n",
              "3         01/01/2016 07:43:13 AM        10 BRONX      BRONX   \n",
              "4         01/01/2016 03:24:42 AM       04 QUEENS     QUEENS   \n",
              "\n",
              "   X Coordinate (State Plane)  Y Coordinate (State Plane) Park Borough  \\\n",
              "0                   1005409.0                    254678.0    MANHATTAN   \n",
              "1                   1007766.0                    221986.0       QUEENS   \n",
              "2                   1015081.0                    256380.0        BRONX   \n",
              "3                   1031740.0                    243899.0        BRONX   \n",
              "4                   1019123.0                    206375.0       QUEENS   \n",
              "\n",
              "    Latitude  Longitude                                  Location  \\\n",
              "0  40.865682 -73.923501   (40.86568153633767, -73.92350095571744)   \n",
              "1  40.775945 -73.915094  (40.775945312321085, -73.91509393898605)   \n",
              "2  40.870325 -73.888525  (40.870324522111424, -73.88852464418646)   \n",
              "3  40.835994 -73.828379   (40.83599404683083, -73.82837939584206)   \n",
              "4  40.733060 -73.874170  (40.733059618956815, -73.87416975810375)   \n",
              "\n",
              "  Request_Closing_Time  \n",
              "0      0 days 00:55:30  \n",
              "1      0 days 01:27:13  \n",
              "2      0 days 04:51:34  \n",
              "3      0 days 07:45:27  \n",
              "4      0 days 03:27:44  "
            ],
            "text/html": [
              "\n",
              "  <div id=\"df-59b15962-f6a1-4789-acfb-f8c9bbd49771\">\n",
              "    <div class=\"colab-df-container\">\n",
              "      <div>\n",
              "<style scoped>\n",
              "    .dataframe tbody tr th:only-of-type {\n",
              "        vertical-align: middle;\n",
              "    }\n",
              "\n",
              "    .dataframe tbody tr th {\n",
              "        vertical-align: top;\n",
              "    }\n",
              "\n",
              "    .dataframe thead th {\n",
              "        text-align: right;\n",
              "    }\n",
              "</style>\n",
              "<table border=\"1\" class=\"dataframe\">\n",
              "  <thead>\n",
              "    <tr style=\"text-align: right;\">\n",
              "      <th></th>\n",
              "      <th>Unique Key</th>\n",
              "      <th>Created Date</th>\n",
              "      <th>Closed Date</th>\n",
              "      <th>Agency</th>\n",
              "      <th>Agency Name</th>\n",
              "      <th>Complaint Type</th>\n",
              "      <th>Descriptor</th>\n",
              "      <th>Location Type</th>\n",
              "      <th>Incident Zip</th>\n",
              "      <th>Incident Address</th>\n",
              "      <th>Street Name</th>\n",
              "      <th>Cross Street 1</th>\n",
              "      <th>Cross Street 2</th>\n",
              "      <th>Address Type</th>\n",
              "      <th>City</th>\n",
              "      <th>Facility Type</th>\n",
              "      <th>Status</th>\n",
              "      <th>Due Date</th>\n",
              "      <th>Resolution Description</th>\n",
              "      <th>Resolution Action Updated Date</th>\n",
              "      <th>Community Board</th>\n",
              "      <th>Borough</th>\n",
              "      <th>X Coordinate (State Plane)</th>\n",
              "      <th>Y Coordinate (State Plane)</th>\n",
              "      <th>Park Borough</th>\n",
              "      <th>Latitude</th>\n",
              "      <th>Longitude</th>\n",
              "      <th>Location</th>\n",
              "      <th>Request_Closing_Time</th>\n",
              "    </tr>\n",
              "  </thead>\n",
              "  <tbody>\n",
              "    <tr>\n",
              "      <th>0</th>\n",
              "      <td>32310363</td>\n",
              "      <td>2015-12-31 23:59:45</td>\n",
              "      <td>2016-01-01 00:55:15</td>\n",
              "      <td>NYPD</td>\n",
              "      <td>New York City Police Department</td>\n",
              "      <td>Noise - Street/Sidewalk</td>\n",
              "      <td>Loud Music/Party</td>\n",
              "      <td>Street/Sidewalk</td>\n",
              "      <td>10034.0</td>\n",
              "      <td>71 VERMILYEA AVENUE</td>\n",
              "      <td>VERMILYEA AVENUE</td>\n",
              "      <td>ACADEMY STREET</td>\n",
              "      <td>WEST 204 STREET</td>\n",
              "      <td>ADDRESS</td>\n",
              "      <td>NEW YORK</td>\n",
              "      <td>Precinct</td>\n",
              "      <td>Closed</td>\n",
              "      <td>2016-01-01 07:59:45</td>\n",
              "      <td>The Police Department responded and upon arriv...</td>\n",
              "      <td>01/01/2016 12:55:15 AM</td>\n",
              "      <td>12 MANHATTAN</td>\n",
              "      <td>MANHATTAN</td>\n",
              "      <td>1005409.0</td>\n",
              "      <td>254678.0</td>\n",
              "      <td>MANHATTAN</td>\n",
              "      <td>40.865682</td>\n",
              "      <td>-73.923501</td>\n",
              "      <td>(40.86568153633767, -73.92350095571744)</td>\n",
              "      <td>0 days 00:55:30</td>\n",
              "    </tr>\n",
              "    <tr>\n",
              "      <th>1</th>\n",
              "      <td>32309934</td>\n",
              "      <td>2015-12-31 23:59:44</td>\n",
              "      <td>2016-01-01 01:26:57</td>\n",
              "      <td>NYPD</td>\n",
              "      <td>New York City Police Department</td>\n",
              "      <td>Blocked Driveway</td>\n",
              "      <td>No Access</td>\n",
              "      <td>Street/Sidewalk</td>\n",
              "      <td>11105.0</td>\n",
              "      <td>27-07 23 AVENUE</td>\n",
              "      <td>23 AVENUE</td>\n",
              "      <td>27 STREET</td>\n",
              "      <td>28 STREET</td>\n",
              "      <td>ADDRESS</td>\n",
              "      <td>ASTORIA</td>\n",
              "      <td>Precinct</td>\n",
              "      <td>Closed</td>\n",
              "      <td>2016-01-01 07:59:44</td>\n",
              "      <td>The Police Department responded to the complai...</td>\n",
              "      <td>01/01/2016 01:26:57 AM</td>\n",
              "      <td>01 QUEENS</td>\n",
              "      <td>QUEENS</td>\n",
              "      <td>1007766.0</td>\n",
              "      <td>221986.0</td>\n",
              "      <td>QUEENS</td>\n",
              "      <td>40.775945</td>\n",
              "      <td>-73.915094</td>\n",
              "      <td>(40.775945312321085, -73.91509393898605)</td>\n",
              "      <td>0 days 01:27:13</td>\n",
              "    </tr>\n",
              "    <tr>\n",
              "      <th>2</th>\n",
              "      <td>32309159</td>\n",
              "      <td>2015-12-31 23:59:29</td>\n",
              "      <td>2016-01-01 04:51:03</td>\n",
              "      <td>NYPD</td>\n",
              "      <td>New York City Police Department</td>\n",
              "      <td>Blocked Driveway</td>\n",
              "      <td>No Access</td>\n",
              "      <td>Street/Sidewalk</td>\n",
              "      <td>10458.0</td>\n",
              "      <td>2897 VALENTINE AVENUE</td>\n",
              "      <td>VALENTINE AVENUE</td>\n",
              "      <td>EAST 198 STREET</td>\n",
              "      <td>EAST 199 STREET</td>\n",
              "      <td>ADDRESS</td>\n",
              "      <td>BRONX</td>\n",
              "      <td>Precinct</td>\n",
              "      <td>Closed</td>\n",
              "      <td>2016-01-01 07:59:29</td>\n",
              "      <td>The Police Department responded and upon arriv...</td>\n",
              "      <td>01/01/2016 04:51:03 AM</td>\n",
              "      <td>07 BRONX</td>\n",
              "      <td>BRONX</td>\n",
              "      <td>1015081.0</td>\n",
              "      <td>256380.0</td>\n",
              "      <td>BRONX</td>\n",
              "      <td>40.870325</td>\n",
              "      <td>-73.888525</td>\n",
              "      <td>(40.870324522111424, -73.88852464418646)</td>\n",
              "      <td>0 days 04:51:34</td>\n",
              "    </tr>\n",
              "    <tr>\n",
              "      <th>3</th>\n",
              "      <td>32305098</td>\n",
              "      <td>2015-12-31 23:57:46</td>\n",
              "      <td>2016-01-01 07:43:13</td>\n",
              "      <td>NYPD</td>\n",
              "      <td>New York City Police Department</td>\n",
              "      <td>Illegal Parking</td>\n",
              "      <td>Commercial Overnight Parking</td>\n",
              "      <td>Street/Sidewalk</td>\n",
              "      <td>10461.0</td>\n",
              "      <td>2940 BAISLEY AVENUE</td>\n",
              "      <td>BAISLEY AVENUE</td>\n",
              "      <td>EDISON AVENUE</td>\n",
              "      <td>B STREET</td>\n",
              "      <td>ADDRESS</td>\n",
              "      <td>BRONX</td>\n",
              "      <td>Precinct</td>\n",
              "      <td>Closed</td>\n",
              "      <td>2016-01-01 07:57:46</td>\n",
              "      <td>The Police Department responded to the complai...</td>\n",
              "      <td>01/01/2016 07:43:13 AM</td>\n",
              "      <td>10 BRONX</td>\n",
              "      <td>BRONX</td>\n",
              "      <td>1031740.0</td>\n",
              "      <td>243899.0</td>\n",
              "      <td>BRONX</td>\n",
              "      <td>40.835994</td>\n",
              "      <td>-73.828379</td>\n",
              "      <td>(40.83599404683083, -73.82837939584206)</td>\n",
              "      <td>0 days 07:45:27</td>\n",
              "    </tr>\n",
              "    <tr>\n",
              "      <th>4</th>\n",
              "      <td>32306529</td>\n",
              "      <td>2015-12-31 23:56:58</td>\n",
              "      <td>2016-01-01 03:24:42</td>\n",
              "      <td>NYPD</td>\n",
              "      <td>New York City Police Department</td>\n",
              "      <td>Illegal Parking</td>\n",
              "      <td>Blocked Sidewalk</td>\n",
              "      <td>Street/Sidewalk</td>\n",
              "      <td>11373.0</td>\n",
              "      <td>87-14 57 ROAD</td>\n",
              "      <td>57 ROAD</td>\n",
              "      <td>SEABURY STREET</td>\n",
              "      <td>HOFFMAN DRIVE</td>\n",
              "      <td>ADDRESS</td>\n",
              "      <td>ELMHURST</td>\n",
              "      <td>Precinct</td>\n",
              "      <td>Closed</td>\n",
              "      <td>2016-01-01 07:56:58</td>\n",
              "      <td>The Police Department responded and upon arriv...</td>\n",
              "      <td>01/01/2016 03:24:42 AM</td>\n",
              "      <td>04 QUEENS</td>\n",
              "      <td>QUEENS</td>\n",
              "      <td>1019123.0</td>\n",
              "      <td>206375.0</td>\n",
              "      <td>QUEENS</td>\n",
              "      <td>40.733060</td>\n",
              "      <td>-73.874170</td>\n",
              "      <td>(40.733059618956815, -73.87416975810375)</td>\n",
              "      <td>0 days 03:27:44</td>\n",
              "    </tr>\n",
              "  </tbody>\n",
              "</table>\n",
              "</div>\n",
              "      <button class=\"colab-df-convert\" onclick=\"convertToInteractive('df-59b15962-f6a1-4789-acfb-f8c9bbd49771')\"\n",
              "              title=\"Convert this dataframe to an interactive table.\"\n",
              "              style=\"display:none;\">\n",
              "        \n",
              "  <svg xmlns=\"http://www.w3.org/2000/svg\" height=\"24px\"viewBox=\"0 0 24 24\"\n",
              "       width=\"24px\">\n",
              "    <path d=\"M0 0h24v24H0V0z\" fill=\"none\"/>\n",
              "    <path d=\"M18.56 5.44l.94 2.06.94-2.06 2.06-.94-2.06-.94-.94-2.06-.94 2.06-2.06.94zm-11 1L8.5 8.5l.94-2.06 2.06-.94-2.06-.94L8.5 2.5l-.94 2.06-2.06.94zm10 10l.94 2.06.94-2.06 2.06-.94-2.06-.94-.94-2.06-.94 2.06-2.06.94z\"/><path d=\"M17.41 7.96l-1.37-1.37c-.4-.4-.92-.59-1.43-.59-.52 0-1.04.2-1.43.59L10.3 9.45l-7.72 7.72c-.78.78-.78 2.05 0 2.83L4 21.41c.39.39.9.59 1.41.59.51 0 1.02-.2 1.41-.59l7.78-7.78 2.81-2.81c.8-.78.8-2.07 0-2.86zM5.41 20L4 18.59l7.72-7.72 1.47 1.35L5.41 20z\"/>\n",
              "  </svg>\n",
              "      </button>\n",
              "      \n",
              "  <style>\n",
              "    .colab-df-container {\n",
              "      display:flex;\n",
              "      flex-wrap:wrap;\n",
              "      gap: 12px;\n",
              "    }\n",
              "\n",
              "    .colab-df-convert {\n",
              "      background-color: #E8F0FE;\n",
              "      border: none;\n",
              "      border-radius: 50%;\n",
              "      cursor: pointer;\n",
              "      display: none;\n",
              "      fill: #1967D2;\n",
              "      height: 32px;\n",
              "      padding: 0 0 0 0;\n",
              "      width: 32px;\n",
              "    }\n",
              "\n",
              "    .colab-df-convert:hover {\n",
              "      background-color: #E2EBFA;\n",
              "      box-shadow: 0px 1px 2px rgba(60, 64, 67, 0.3), 0px 1px 3px 1px rgba(60, 64, 67, 0.15);\n",
              "      fill: #174EA6;\n",
              "    }\n",
              "\n",
              "    [theme=dark] .colab-df-convert {\n",
              "      background-color: #3B4455;\n",
              "      fill: #D2E3FC;\n",
              "    }\n",
              "\n",
              "    [theme=dark] .colab-df-convert:hover {\n",
              "      background-color: #434B5C;\n",
              "      box-shadow: 0px 1px 3px 1px rgba(0, 0, 0, 0.15);\n",
              "      filter: drop-shadow(0px 1px 2px rgba(0, 0, 0, 0.3));\n",
              "      fill: #FFFFFF;\n",
              "    }\n",
              "  </style>\n",
              "\n",
              "      <script>\n",
              "        const buttonEl =\n",
              "          document.querySelector('#df-59b15962-f6a1-4789-acfb-f8c9bbd49771 button.colab-df-convert');\n",
              "        buttonEl.style.display =\n",
              "          google.colab.kernel.accessAllowed ? 'block' : 'none';\n",
              "\n",
              "        async function convertToInteractive(key) {\n",
              "          const element = document.querySelector('#df-59b15962-f6a1-4789-acfb-f8c9bbd49771');\n",
              "          const dataTable =\n",
              "            await google.colab.kernel.invokeFunction('convertToInteractive',\n",
              "                                                     [key], {});\n",
              "          if (!dataTable) return;\n",
              "\n",
              "          const docLinkHtml = 'Like what you see? Visit the ' +\n",
              "            '<a target=\"_blank\" href=https://colab.research.google.com/notebooks/data_table.ipynb>data table notebook</a>'\n",
              "            + ' to learn more about interactive tables.';\n",
              "          element.innerHTML = '';\n",
              "          dataTable['output_type'] = 'display_data';\n",
              "          await google.colab.output.renderOutput(dataTable, element);\n",
              "          const docLink = document.createElement('div');\n",
              "          docLink.innerHTML = docLinkHtml;\n",
              "          element.appendChild(docLink);\n",
              "        }\n",
              "      </script>\n",
              "    </div>\n",
              "  </div>\n",
              "  "
            ]
          },
          "metadata": {},
          "execution_count": 447
        }
      ],
      "source": [
        "cmr_service_df.head() # we have a new column"
      ]
    },
    {
      "cell_type": "markdown",
      "metadata": {
        "id": "Z720UfdfkiRV"
      },
      "source": [
        "# Now Doing EDA and focus on various complains."
      ]
    },
    {
      "cell_type": "code",
      "execution_count": null,
      "metadata": {
        "id": "Aahj5C-ki1C7",
        "colab": {
          "base_uri": "https://localhost:8080/",
          "height": 452
        },
        "outputId": "97f328e9-0349-4a9e-9d2b-0b9ca45289ff"
      },
      "outputs": [
        {
          "output_type": "display_data",
          "data": {
            "text/plain": [
              "<Figure size 504x504 with 1 Axes>"
            ],
            "image/png": "[encoded data removed]"
          },
          "metadata": {
            "needs_background": "light"
          }
        }
      ],
      "source": [
        "#Have a look at the status of tickets\n",
        "cmr_service_df['Status'].value_counts().plot(kind='bar',alpha=0.6,figsize=(7,7))\n",
        "plt.show()"
      ]
    },
    {
      "cell_type": "code",
      "execution_count": null,
      "metadata": {
        "id": "LKcFje1rj4-H",
        "colab": {
          "base_uri": "https://localhost:8080/",
          "height": 592
        },
        "outputId": "4337c2ff-c02c-4cf5-dde9-7bd4e5651da6"
      },
      "outputs": [
        {
          "output_type": "display_data",
          "data": {
            "text/plain": [
              "<Figure size 1080x720 with 1 Axes>"
            ],
            "image/png": "[encoded data removed]"
          },
          "metadata": {
            "needs_background": "light"
          }
        }
      ],
      "source": [
        "#Complaint type Breakdown with bar plot to figure out majority of complaint types and top 10 complaints\n",
        "cmr_service_df['Complaint Type'].value_counts().head(10).plot(kind='barh',figsize=(15,10));"
      ]
    },
    {
      "cell_type": "code",
      "execution_count": null,
      "metadata": {
        "id": "H3J0Quy_kZXW",
        "colab": {
          "base_uri": "https://localhost:8080/"
        },
        "outputId": "c3f17031-7cfa-4369-8d22-37acad41ba35"
      },
      "outputs": [
        {
          "output_type": "execute_result",
          "data": {
            "text/plain": [
              "Borough        Complaint Type            Descriptor                    \n",
              "BRONX          Animal Abuse              Chained                             130\n",
              "                                         In Car                               21\n",
              "                                         Neglected                           863\n",
              "                                         No Shelter                          146\n",
              "                                         Other (complaint details)           373\n",
              "                                         Tortured                            209\n",
              "               Blocked Driveway          No Access                         13155\n",
              "                                         Partial Access                     3634\n",
              "               Derelict Vehicle          With License Plate                 1960\n",
              "               Disorderly Youth          Nuisance/Truant                       3\n",
              "                                         Playing in Unsuitable Place          47\n",
              "               Drinking                  After Hours - Licensed Est           11\n",
              "                                         In Public                           121\n",
              "                                         Underage - Licensed Est              36\n",
              "               Graffiti                  Police Report Not Requested           3\n",
              "                                         Police Report Requested              10\n",
              "               Illegal Parking           Blocked Hydrant                    1663\n",
              "                                         Blocked Sidewalk                   1274\n",
              "                                         Commercial Overnight Parking       1128\n",
              "                                         Detached Trailer                     68\n",
              "                                         Double Parked Blocking Traffic      555\n",
              "                                         Double Parked Blocking Vehicle      733\n",
              "                                         Overnight Commercial Storage        178\n",
              "                                         Posted Parking Sign Violation      2218\n",
              "                                         Unauthorized Bus Layover             50\n",
              "               Noise - Commercial        Banging/Pounding                    189\n",
              "                                         Car/Truck Horn                       30\n",
              "                                         Car/Truck Music                      71\n",
              "                                         Loud Music/Party                   1572\n",
              "                                         Loud Talking                        748\n",
              "                                         Loud Television                       1\n",
              "               Noise - House of Worship  Banging/Pounding                      5\n",
              "                                         Loud Music/Party                     37\n",
              "                                         Loud Talking                         19\n",
              "               Noise - Park              Loud Music/Party                    168\n",
              "                                         Loud Talking                         46\n",
              "               Noise - Street/Sidewalk   Loud Music/Party                   5141\n",
              "                                         Loud Talking                       2443\n",
              "               Noise - Vehicle           Car/Truck Horn                      161\n",
              "                                         Car/Truck Music                    2222\n",
              "                                         Engine Idling                       296\n",
              "               Posting Advertisement     Building                              5\n",
              "                                         Vehicle                               8\n",
              "               Traffic                   Chronic Speeding                     14\n",
              "                                         Chronic Stoplight Violation           6\n",
              "                                         Congestion/Gridlock                  52\n",
              "                                         Drag Racing                           7\n",
              "                                         Truck Route Violation                 6\n",
              "               Vending                   In Prohibited Area                   96\n",
              "                                         Unlicensed                          185\n",
              "BROOKLYN       Animal Abuse              Chained                             171\n",
              "                                         In Car                               48\n",
              "                                         Neglected                          1440\n",
              "                                         No Shelter                          243\n",
              "                                         Other (complaint details)           629\n",
              "                                         Tortured                            314\n",
              "               Blocked Driveway          No Access                         27651\n",
              "                                         Partial Access                     8240\n",
              "               Derelict Vehicle          With License Plate                 5342\n",
              "               Disorderly Youth          Nuisance/Truant                       7\n",
              "                                         Playing in Unsuitable Place          53\n",
              "               Drinking                  After Hours - Licensed Est           19\n",
              "                                         In Public                           152\n",
              "                                         Underage - Licensed Est              64\n",
              "               Graffiti                  Police Report Not Requested           9\n",
              "                                         Police Report Requested              45\n",
              "               Illegal Parking           Blocked Hydrant                    7919\n",
              "                                         Blocked Sidewalk                   4271\n",
              "                                         Commercial Overnight Parking       4397\n",
              "                                         Detached Trailer                    129\n",
              "                                         Double Parked Blocking Traffic     1848\n",
              "                                         Double Parked Blocking Vehicle     1402\n",
              "                                         Overnight Commercial Storage        522\n",
              "                                         Posted Parking Sign Violation      7373\n",
              "                                         Unauthorized Bus Layover            448\n",
              "               Noise - Commercial        Banging/Pounding                   1515\n",
              "                                         Car/Truck Horn                      479\n",
              "                                         Car/Truck Music                     344\n",
              "                                         Loud Music/Party                   9307\n",
              "                                         Loud Talking                       1080\n",
              "                                         Loud Television                      44\n",
              "               Noise - House of Worship  Banging/Pounding                     24\n",
              "                                         Loud Music/Party                    168\n",
              "                                         Loud Talking                         64\n",
              "                                         Loud Television                       1\n",
              "               Noise - Park              Loud Music/Party                    326\n",
              "                                         Loud Talking                        128\n",
              "               Noise - Street/Sidewalk   Loud Music/Party                   6924\n",
              "                                         Loud Talking                       4276\n",
              "               Noise - Vehicle           Car/Truck Horn                      560\n",
              "                                         Car/Truck Music                    2531\n",
              "                                         Engine Idling                      1400\n",
              "               Posting Advertisement     Building                             23\n",
              "                                         Vehicle                              26\n",
              "               Traffic                   Chronic Speeding                     25\n",
              "                                         Chronic Stoplight Violation           5\n",
              "                                         Congestion/Gridlock                 192\n",
              "                                         Drag Racing                          26\n",
              "                                         Truck Route Violation                65\n",
              "               Vending                   In Prohibited Area                  125\n",
              "                                         Unlicensed                          174\n",
              "MANHATTAN      Animal Abuse              Chained                              50\n",
              "                                         In Car                               56\n",
              "                                         Neglected                           661\n",
              "                                         No Shelter                           66\n",
              "                                         Other (complaint details)           376\n",
              "                                         Tortured                            146\n",
              "               Blocked Driveway          No Access                          1972\n",
              "                                         Partial Access                      553\n",
              "               Derelict Vehicle          With License Plate                  561\n",
              "               Disorderly Youth          Nuisance/Truant                       2\n",
              "                                         Playing in Unsuitable Place          41\n",
              "               Drinking                  After Hours - Licensed Est           32\n",
              "                                         In Public                           155\n",
              "                                         Underage - Licensed Est              80\n",
              "               Graffiti                  Police Report Not Requested           6\n",
              "                                         Police Report Requested              11\n",
              "               Illegal Parking           Blocked Hydrant                    1728\n",
              "                                         Blocked Sidewalk                   1396\n",
              "                                         Commercial Overnight Parking        511\n",
              "                                         Detached Trailer                     25\n",
              "                                         Double Parked Blocking Traffic     1447\n",
              "                                         Double Parked Blocking Vehicle     1017\n",
              "                                         Overnight Commercial Storage         86\n",
              "                                         Posted Parking Sign Violation      4573\n",
              "                                         Unauthorized Bus Layover            452\n",
              "               Noise - Commercial        Banging/Pounding                   1740\n",
              "                                         Car/Truck Horn                      615\n",
              "                                         Car/Truck Music                     317\n",
              "                                         Loud Music/Party                  12834\n",
              "                                         Loud Talking                       1651\n",
              "                                         Loud Television                      38\n",
              "               Noise - House of Worship  Banging/Pounding                     13\n",
              "                                         Loud Music/Party                    133\n",
              "                                         Loud Talking                         16\n",
              "               Noise - Park              Loud Music/Party                    365\n",
              "                                         Loud Talking                         60\n",
              "               Noise - Street/Sidewalk   Loud Music/Party                  11172\n",
              "                                         Loud Talking                       6372\n",
              "               Noise - Vehicle           Car/Truck Horn                      664\n",
              "                                         Car/Truck Music                    2188\n",
              "                                         Engine Idling                      1290\n",
              "               Posting Advertisement     Building                             26\n",
              "                                         Vehicle                              14\n",
              "               Traffic                   Chronic Speeding                      9\n",
              "                                         Chronic Stoplight Violation          11\n",
              "                                         Congestion/Gridlock                 271\n",
              "                                         Drag Racing                           6\n",
              "                                         Truck Route Violation                34\n",
              "               Vending                   In Prohibited Area                 1068\n",
              "                                         Unlicensed                          483\n",
              "QUEENS         Animal Abuse              Chained                             162\n",
              "                                         In Car                               41\n",
              "                                         Neglected                          1177\n",
              "                                         No Shelter                          213\n",
              "                                         Other (complaint details)           506\n",
              "                                         Tortured                            194\n",
              "               Blocked Driveway          No Access                         29600\n",
              "                                         Partial Access                    11068\n",
              "               Derelict Vehicle          With License Plate                 8069\n",
              "               Disorderly Youth          Nuisance/Truant                       5\n",
              "                                         Playing in Unsuitable Place          31\n",
              "               Drinking                  After Hours - Licensed Est           19\n",
              "                                         In Public                           170\n",
              "                                         Underage - Licensed Est              99\n",
              "               Graffiti                  Police Report Not Requested           5\n",
              "                                         Police Report Requested              43\n",
              "               Illegal Parking           Blocked Hydrant                    5849\n",
              "                                         Blocked Sidewalk                   3534\n",
              "                                         Commercial Overnight Parking       4189\n",
              "                                         Detached Trailer                    121\n",
              "                                         Double Parked Blocking Traffic     1067\n",
              "                                         Double Parked Blocking Vehicle      444\n",
              "                                         Overnight Commercial Storage        588\n",
              "                                         Posted Parking Sign Violation      5232\n",
              "                                         Unauthorized Bus Layover            188\n",
              "               Noise - Commercial        Banging/Pounding                    724\n",
              "                                         Car/Truck Horn                      115\n",
              "                                         Car/Truck Music                     115\n",
              "                                         Loud Music/Party                   5146\n",
              "                                         Loud Talking                        553\n",
              "                                         Loud Television                      22\n",
              "               Noise - House of Worship  Banging/Pounding                    230\n",
              "                                         Loud Music/Party                     76\n",
              "                                         Loud Talking                          7\n",
              "               Noise - Park              Loud Music/Party                     78\n",
              "                                         Loud Talking                         98\n",
              "               Noise - Street/Sidewalk   Loud Music/Party                   1851\n",
              "                                         Loud Talking                       1561\n",
              "               Noise - Vehicle           Car/Truck Horn                      371\n",
              "                                         Car/Truck Music                    1041\n",
              "                                         Engine Idling                       747\n",
              "               Posting Advertisement     Building                             19\n",
              "                                         Vehicle                               9\n",
              "               Traffic                   Chronic Speeding                     44\n",
              "                                         Chronic Stoplight Violation           6\n",
              "                                         Congestion/Gridlock                 109\n",
              "                                         Drag Racing                          34\n",
              "                                         Truck Route Violation               109\n",
              "               Vending                   In Prohibited Area                  135\n",
              "                                         Unlicensed                          167\n",
              "STATEN ISLAND  Animal Abuse              Chained                              38\n",
              "                                         In Car                               17\n",
              "                                         Neglected                           400\n",
              "                                         No Shelter                           66\n",
              "                                         Other (complaint details)           159\n",
              "                                         Tortured                             53\n",
              "               Blocked Driveway          No Access                          1810\n",
              "                                         Partial Access                      985\n",
              "               Derelict Vehicle          With License Plate                 1774\n",
              "               Disorderly Youth          Playing in Unsuitable Place          19\n",
              "               Drinking                  After Hours - Licensed Est            2\n",
              "                                         In Public                           145\n",
              "                                         Underage - Licensed Est              19\n",
              "               Graffiti                  Police Report Requested               6\n",
              "               Illegal Parking           Blocked Hydrant                     912\n",
              "                                         Blocked Sidewalk                    833\n",
              "                                         Commercial Overnight Parking       1406\n",
              "                                         Detached Trailer                     62\n",
              "                                         Double Parked Blocking Traffic      263\n",
              "                                         Double Parked Blocking Vehicle       89\n",
              "                                         Overnight Commercial Storage        137\n",
              "                                         Posted Parking Sign Violation      1348\n",
              "                                         Unauthorized Bus Layover             46\n",
              "               Noise - Commercial        Banging/Pounding                     77\n",
              "                                         Car/Truck Horn                        5\n",
              "                                         Car/Truck Music                      15\n",
              "                                         Loud Music/Party                    513\n",
              "                                         Loud Talking                         59\n",
              "               Noise - House of Worship  Banging/Pounding                      3\n",
              "                                         Loud Music/Party                      6\n",
              "                                         Loud Talking                          1\n",
              "               Noise - Park              Loud Music/Party                     13\n",
              "                                         Loud Talking                          7\n",
              "               Noise - Street/Sidewalk   Loud Music/Party                    376\n",
              "                                         Loud Talking                        328\n",
              "               Noise - Vehicle           Car/Truck Horn                       39\n",
              "                                         Car/Truck Music                     106\n",
              "                                         Engine Idling                       147\n",
              "               Posting Advertisement     Building                              2\n",
              "                                         Vehicle                             513\n",
              "               Traffic                   Chronic Speeding                     20\n",
              "                                         Chronic Stoplight Violation           2\n",
              "                                         Congestion/Gridlock                  24\n",
              "                                         Drag Racing                           7\n",
              "                                         Truck Route Violation                 3\n",
              "               Vending                   In Prohibited Area                    5\n",
              "                                         Unlicensed                           13\n",
              "dtype: int64"
            ]
          },
          "metadata": {},
          "execution_count": 450
        }
      ],
      "source": [
        "cmr_service_df.groupby([\"Borough\",\"Complaint Type\",\"Descriptor\"]).size()"
      ]
    },
    {
      "cell_type": "markdown",
      "metadata": {
        "id": "JtAk0z0eoHbR"
      },
      "source": [
        "# Find out major complains"
      ]
    },
    {
      "cell_type": "code",
      "execution_count": null,
      "metadata": {
        "id": "3xuTXXvHnnAF",
        "colab": {
          "base_uri": "https://localhost:8080/",
          "height": 363
        },
        "outputId": "40ba7605-af47-4766-d537-4939daf26acc"
      },
      "outputs": [
        {
          "output_type": "execute_result",
          "data": {
            "text/plain": [
              "            Complaint Type  count\n",
              "0         Blocked Driveway  98668\n",
              "1          Illegal Parking  73719\n",
              "2  Noise - Street/Sidewalk  40444\n",
              "3       Noise - Commercial  39919\n",
              "4         Derelict Vehicle  17706\n",
              "5          Noise - Vehicle  13763\n",
              "6             Animal Abuse   8968\n",
              "7                  Vending   2451\n",
              "8             Noise - Park   1289\n",
              "9                 Drinking   1124"
            ],
            "text/html": [
              "\n",
              "  <div id=\"df-8169762f-45a2-4717-b7f2-6d3167f5cb6b\">\n",
              "    <div class=\"colab-df-container\">\n",
              "      <div>\n",
              "<style scoped>\n",
              "    .dataframe tbody tr th:only-of-type {\n",
              "        vertical-align: middle;\n",
              "    }\n",
              "\n",
              "    .dataframe tbody tr th {\n",
              "        vertical-align: top;\n",
              "    }\n",
              "\n",
              "    .dataframe thead th {\n",
              "        text-align: right;\n",
              "    }\n",
              "</style>\n",
              "<table border=\"1\" class=\"dataframe\">\n",
              "  <thead>\n",
              "    <tr style=\"text-align: right;\">\n",
              "      <th></th>\n",
              "      <th>Complaint Type</th>\n",
              "      <th>count</th>\n",
              "    </tr>\n",
              "  </thead>\n",
              "  <tbody>\n",
              "    <tr>\n",
              "      <th>0</th>\n",
              "      <td>Blocked Driveway</td>\n",
              "      <td>98668</td>\n",
              "    </tr>\n",
              "    <tr>\n",
              "      <th>1</th>\n",
              "      <td>Illegal Parking</td>\n",
              "      <td>73719</td>\n",
              "    </tr>\n",
              "    <tr>\n",
              "      <th>2</th>\n",
              "      <td>Noise - Street/Sidewalk</td>\n",
              "      <td>40444</td>\n",
              "    </tr>\n",
              "    <tr>\n",
              "      <th>3</th>\n",
              "      <td>Noise - Commercial</td>\n",
              "      <td>39919</td>\n",
              "    </tr>\n",
              "    <tr>\n",
              "      <th>4</th>\n",
              "      <td>Derelict Vehicle</td>\n",
              "      <td>17706</td>\n",
              "    </tr>\n",
              "    <tr>\n",
              "      <th>5</th>\n",
              "      <td>Noise - Vehicle</td>\n",
              "      <td>13763</td>\n",
              "    </tr>\n",
              "    <tr>\n",
              "      <th>6</th>\n",
              "      <td>Animal Abuse</td>\n",
              "      <td>8968</td>\n",
              "    </tr>\n",
              "    <tr>\n",
              "      <th>7</th>\n",
              "      <td>Vending</td>\n",
              "      <td>2451</td>\n",
              "    </tr>\n",
              "    <tr>\n",
              "      <th>8</th>\n",
              "      <td>Noise - Park</td>\n",
              "      <td>1289</td>\n",
              "    </tr>\n",
              "    <tr>\n",
              "      <th>9</th>\n",
              "      <td>Drinking</td>\n",
              "      <td>1124</td>\n",
              "    </tr>\n",
              "  </tbody>\n",
              "</table>\n",
              "</div>\n",
              "      <button class=\"colab-df-convert\" onclick=\"convertToInteractive('df-8169762f-45a2-4717-b7f2-6d3167f5cb6b')\"\n",
              "              title=\"Convert this dataframe to an interactive table.\"\n",
              "              style=\"display:none;\">\n",
              "        \n",
              "  <svg xmlns=\"http://www.w3.org/2000/svg\" height=\"24px\"viewBox=\"0 0 24 24\"\n",
              "       width=\"24px\">\n",
              "    <path d=\"M0 0h24v24H0V0z\" fill=\"none\"/>\n",
              "    <path d=\"M18.56 5.44l.94 2.06.94-2.06 2.06-.94-2.06-.94-.94-2.06-.94 2.06-2.06.94zm-11 1L8.5 8.5l.94-2.06 2.06-.94-2.06-.94L8.5 2.5l-.94 2.06-2.06.94zm10 10l.94 2.06.94-2.06 2.06-.94-2.06-.94-.94-2.06-.94 2.06-2.06.94z\"/><path d=\"M17.41 7.96l-1.37-1.37c-.4-.4-.92-.59-1.43-.59-.52 0-1.04.2-1.43.59L10.3 9.45l-7.72 7.72c-.78.78-.78 2.05 0 2.83L4 21.41c.39.39.9.59 1.41.59.51 0 1.02-.2 1.41-.59l7.78-7.78 2.81-2.81c.8-.78.8-2.07 0-2.86zM5.41 20L4 18.59l7.72-7.72 1.47 1.35L5.41 20z\"/>\n",
              "  </svg>\n",
              "      </button>\n",
              "      \n",
              "  <style>\n",
              "    .colab-df-container {\n",
              "      display:flex;\n",
              "      flex-wrap:wrap;\n",
              "      gap: 12px;\n",
              "    }\n",
              "\n",
              "    .colab-df-convert {\n",
              "      background-color: #E8F0FE;\n",
              "      border: none;\n",
              "      border-radius: 50%;\n",
              "      cursor: pointer;\n",
              "      display: none;\n",
              "      fill: #1967D2;\n",
              "      height: 32px;\n",
              "      padding: 0 0 0 0;\n",
              "      width: 32px;\n",
              "    }\n",
              "\n",
              "    .colab-df-convert:hover {\n",
              "      background-color: #E2EBFA;\n",
              "      box-shadow: 0px 1px 2px rgba(60, 64, 67, 0.3), 0px 1px 3px 1px rgba(60, 64, 67, 0.15);\n",
              "      fill: #174EA6;\n",
              "    }\n",
              "\n",
              "    [theme=dark] .colab-df-convert {\n",
              "      background-color: #3B4455;\n",
              "      fill: #D2E3FC;\n",
              "    }\n",
              "\n",
              "    [theme=dark] .colab-df-convert:hover {\n",
              "      background-color: #434B5C;\n",
              "      box-shadow: 0px 1px 3px 1px rgba(0, 0, 0, 0.15);\n",
              "      filter: drop-shadow(0px 1px 2px rgba(0, 0, 0, 0.3));\n",
              "      fill: #FFFFFF;\n",
              "    }\n",
              "  </style>\n",
              "\n",
              "      <script>\n",
              "        const buttonEl =\n",
              "          document.querySelector('#df-8169762f-45a2-4717-b7f2-6d3167f5cb6b button.colab-df-convert');\n",
              "        buttonEl.style.display =\n",
              "          google.colab.kernel.accessAllowed ? 'block' : 'none';\n",
              "\n",
              "        async function convertToInteractive(key) {\n",
              "          const element = document.querySelector('#df-8169762f-45a2-4717-b7f2-6d3167f5cb6b');\n",
              "          const dataTable =\n",
              "            await google.colab.kernel.invokeFunction('convertToInteractive',\n",
              "                                                     [key], {});\n",
              "          if (!dataTable) return;\n",
              "\n",
              "          const docLinkHtml = 'Like what you see? Visit the ' +\n",
              "            '<a target=\"_blank\" href=https://colab.research.google.com/notebooks/data_table.ipynb>data table notebook</a>'\n",
              "            + ' to learn more about interactive tables.';\n",
              "          element.innerHTML = '';\n",
              "          dataTable['output_type'] = 'display_data';\n",
              "          await google.colab.output.renderOutput(dataTable, element);\n",
              "          const docLink = document.createElement('div');\n",
              "          docLink.innerHTML = docLinkHtml;\n",
              "          element.appendChild(docLink);\n",
              "        }\n",
              "      </script>\n",
              "    </div>\n",
              "  </div>\n",
              "  "
            ]
          },
          "metadata": {},
          "execution_count": 451
        }
      ],
      "source": [
        "majorcomplints= cmr_service_df.dropna(subset=[\"Complaint Type\"])\n",
        "majorcomplints= cmr_service_df.groupby(\"Complaint Type\")\n",
        "\n",
        "sortedComplaintType = majorcomplints.size().sort_values(ascending = False)\n",
        "sortedComplaintType = sortedComplaintType.to_frame('count').reset_index()\n",
        "\n",
        "sortedComplaintType\n",
        "sortedComplaintType.head(10)"
      ]
    },
    {
      "cell_type": "code",
      "execution_count": null,
      "metadata": {
        "id": "Qzxe4zl8r7Fn"
      },
      "outputs": [],
      "source": [
        "com_names = sortedComplaintType[0:10].value_counts().index\n"
      ]
    },
    {
      "cell_type": "code",
      "execution_count": null,
      "metadata": {
        "id": "tSk7IrNatN2x"
      },
      "outputs": [],
      "source": [
        "com_value = sortedComplaintType[0:10].value_counts()"
      ]
    },
    {
      "cell_type": "code",
      "execution_count": null,
      "metadata": {
        "id": "3Ro6p8k0obif",
        "colab": {
          "base_uri": "https://localhost:8080/",
          "height": 835
        },
        "outputId": "7d370151-b11c-4293-f792-9bedd5ba0783"
      },
      "outputs": [
        {
          "output_type": "execute_result",
          "data": {
            "text/plain": [
              "([<matplotlib.patches.Wedge at 0x7faca03b5dd0>,\n",
              "  <matplotlib.patches.Wedge at 0x7fac998ce0d0>,\n",
              "  <matplotlib.patches.Wedge at 0x7fac998cea50>,\n",
              "  <matplotlib.patches.Wedge at 0x7faca3752910>,\n",
              "  <matplotlib.patches.Wedge at 0x7faca4151b50>,\n",
              "  <matplotlib.patches.Wedge at 0x7facabbcab50>,\n",
              "  <matplotlib.patches.Wedge at 0x7facabbcaa10>,\n",
              "  <matplotlib.patches.Wedge at 0x7facabbb1b10>,\n",
              "  <matplotlib.patches.Wedge at 0x7faca2c16a50>,\n",
              "  <matplotlib.patches.Wedge at 0x7facabbcab90>],\n",
              " [Text(1.0461621663333946, 0.3399186987098808, \"('Animal Abuse', 8968)\"),\n",
              "  Text(0.6465637650236903, 0.8899187028927925, \"('Blocked Driveway', 98668)\"),\n",
              "  Text(-2.5747358111484753e-08, 1.0999999999999999, \"('Derelict Vehicle', 17706)\"),\n",
              "  Text(-0.6465638066837905, 0.8899186726249574, \"('Drinking', 1124)\"),\n",
              "  Text(-1.0461621822461362, 0.3399186497354952, \"('Illegal Parking', 73719)\"),\n",
              "  Text(-1.0461621504206509, -0.33991874768426583, \"('Noise - Commercial', 39919)\"),\n",
              "  Text(-0.6465637233635886, -0.8899187331606258, \"('Noise - Park', 1289)\"),\n",
              "  Text(7.724207457870327e-08, -1.0999999999999974, \"('Noise - Street/Sidewalk', 40444)\"),\n",
              "  Text(0.6465638483438898, -0.88991864235712, \"('Noise - Vehicle', 13763)\"),\n",
              "  Text(1.0461621981588753, -0.33991860076110864, \"('Vending', 2451)\")])"
            ]
          },
          "metadata": {},
          "execution_count": 454
        },
        {
          "output_type": "display_data",
          "data": {
            "text/plain": [
              "<Figure size 864x576 with 1 Axes>"
            ],
            "image/png": "[encoded data removed]"
          },
          "metadata": {}
        }
      ],
      "source": [
        "plt.figure(figsize=(12,8))\n",
        "plt.pie(com_value, labels = com_names)"
      ]
    },
    {
      "cell_type": "code",
      "execution_count": null,
      "metadata": {
        "id": "8K34p9d4wvS5"
      },
      "outputs": [],
      "source": [
        "# find out other complains ratio"
      ]
    },
    {
      "cell_type": "code",
      "execution_count": null,
      "metadata": {
        "id": "UUqwShOIpIHQ",
        "colab": {
          "base_uri": "https://localhost:8080/",
          "height": 466
        },
        "outputId": "1b8e8a54-f2d2-4453-b20a-d2b8bcbe5a6d"
      },
      "outputs": [
        {
          "output_type": "display_data",
          "data": {
            "text/plain": [
              "<Figure size 720x576 with 1 Axes>"
            ],
            "image/png": "[encoded data removed]"
          },
          "metadata": {}
        }
      ],
      "source": [
        "sortedComplaintType = sortedComplaintType.head()\n",
        "plt.figure(figsize=(10,8))\n",
        "plt.pie(sortedComplaintType['count'],labels=sortedComplaintType[\"Complaint Type\"], autopct=\"%1.1f%%\")\n",
        "plt.show()"
      ]
    },
    {
      "cell_type": "code",
      "execution_count": null,
      "metadata": {
        "id": "uOeTaTxXwWQU",
        "colab": {
          "base_uri": "https://localhost:8080/"
        },
        "outputId": "b782ba5b-e582-4a32-8d4d-79133f3773d1"
      },
      "outputs": [
        {
          "output_type": "execute_result",
          "data": {
            "text/plain": [
              "(98668, 29)"
            ]
          },
          "metadata": {},
          "execution_count": 457
        }
      ],
      "source": [
        "#Group dataset by complaint type to display plot against city\n",
        "groupedby_complainttype = cmr_service_df.groupby('Complaint Type')\n",
        "grp_data = groupedby_complainttype.get_group('Blocked Driveway')\n",
        "grp_data.shape"
      ]
    },
    {
      "cell_type": "code",
      "execution_count": null,
      "metadata": {
        "id": "MI2imyCvxDUA",
        "colab": {
          "base_uri": "https://localhost:8080/",
          "height": 879
        },
        "outputId": "593faace-bd1b-4540-fba1-c19a4afcc45c"
      },
      "outputs": [
        {
          "output_type": "display_data",
          "data": {
            "text/plain": [
              "<Figure size 1440x1080 with 1 Axes>"
            ],
            "image/png": "[encoded data removed]"
          },
          "metadata": {
            "needs_background": "light"
          }
        }
      ],
      "source": [
        "#Scatter plot displaying all the cities that raised complaint of type 'Blocked Driveway'\n",
        "plt.figure(figsize=(20, 15))\n",
        "plt.scatter(grp_data['Complaint Type'],grp_data['City'])\n",
        "plt.title('Plot showing list of cities that raised complaint of type Blocked Driveway')\n",
        "plt.show()"
      ]
    },
    {
      "cell_type": "code",
      "execution_count": null,
      "metadata": {
        "id": "8Li8PBfJxejd"
      },
      "outputs": [],
      "source": [
        "# last to to find is average response time across various types of complaints"
      ]
    },
    {
      "cell_type": "code",
      "execution_count": null,
      "metadata": {
        "id": "ugwP-Eupyirm",
        "colab": {
          "base_uri": "https://localhost:8080/"
        },
        "outputId": "16cafe5d-5312-436a-b148-9ec0078fbb65"
      },
      "outputs": [
        {
          "output_type": "execute_result",
          "data": {
            "text/plain": [
              "Index(['Unique Key', 'Created Date', 'Closed Date', 'Agency', 'Agency Name',\n",
              "       'Complaint Type', 'Descriptor', 'Location Type', 'Incident Zip',\n",
              "       'Incident Address', 'Street Name', 'Cross Street 1', 'Cross Street 2',\n",
              "       'Address Type', 'City', 'Facility Type', 'Status', 'Due Date',\n",
              "       'Resolution Description', 'Resolution Action Updated Date',\n",
              "       'Community Board', 'Borough', 'X Coordinate (State Plane)',\n",
              "       'Y Coordinate (State Plane)', 'Park Borough', 'Latitude', 'Longitude',\n",
              "       'Location', 'Request_Closing_Time'],\n",
              "      dtype='object')"
            ]
          },
          "metadata": {},
          "execution_count": 460
        }
      ],
      "source": [
        "cmr_service_df.columns"
      ]
    },
    {
      "cell_type": "code",
      "execution_count": null,
      "metadata": {
        "id": "MZTmZXOUyVVP"
      },
      "outputs": [],
      "source": [
        "average_response = cmr_service_df.groupby(\"Complaint Type\")[\"Request_Closing_Time\"].mean()"
      ]
    },
    {
      "cell_type": "code",
      "execution_count": null,
      "metadata": {
        "id": "iK7lB6CIy_Z_",
        "colab": {
          "base_uri": "https://localhost:8080/"
        },
        "outputId": "0f9504d6-97f3-4a4e-fa06-788717a4e836"
      },
      "outputs": [
        {
          "output_type": "execute_result",
          "data": {
            "text/plain": [
              "Complaint Type\n",
              "Animal Abuse               0 days 05:07:13.403768956\n",
              "Blocked Driveway           0 days 04:30:23.492976446\n",
              "Derelict Vehicle           0 days 06:55:46.709702925\n",
              "Disorderly Youth              0 days 03:30:04.437500\n",
              "Drinking                   0 days 03:49:30.193950177\n",
              "Graffiti                   0 days 05:30:59.239130434\n",
              "Illegal Parking            0 days 04:19:49.203760224\n",
              "Noise - Commercial         0 days 03:03:31.378817104\n",
              "Noise - House of Worship   0 days 03:15:03.053549190\n",
              "Noise - Park               0 days 03:30:10.229635376\n",
              "Noise - Street/Sidewalk    0 days 03:26:08.929606369\n",
              "Noise - Vehicle            0 days 03:35:19.553149749\n",
              "Posting Advertisement      0 days 01:55:50.075968992\n",
              "Traffic                    0 days 03:47:33.763569457\n",
              "Vending                    0 days 03:56:29.044879640\n",
              "Name: Request_Closing_Time, dtype: timedelta64[ns]"
            ]
          },
          "metadata": {},
          "execution_count": 462
        }
      ],
      "source": [
        "average_response"
      ]
    },
    {
      "cell_type": "markdown",
      "metadata": {
        "id": "mKWW9crV0PVt"
      },
      "source": [
        "# we can see average respone time now"
      ]
    },
    {
      "cell_type": "code",
      "execution_count": null,
      "metadata": {
        "id": "lsG1t44Hz8Gj",
        "colab": {
          "base_uri": "https://localhost:8080/"
        },
        "outputId": "43946ec3-d94d-4f6c-8638-511c36f06aa4"
      },
      "outputs": [
        {
          "output_type": "execute_result",
          "data": {
            "text/plain": [
              "Timedelta('0 days 04:00:55.513997669')"
            ]
          },
          "metadata": {},
          "execution_count": 463
        }
      ],
      "source": [
        "average_response.mean()"
      ]
    },
    {
      "cell_type": "code",
      "execution_count": null,
      "metadata": {
        "id": "0jCScON31mfS"
      },
      "outputs": [],
      "source": []
    }
  ],
  "metadata": {
    "colab": {
      "collapsed_sections": [],
      "provenance": [],
      "mount_file_id": "1rmvibpVxz0MSRMpxaieWBK2oMDNS61v6",
      "authorship_tag": "ABX9TyMml1XMbVYiqksWlNfj0uWy",
      "include_colab_link": true
    },
    "kernelspec": {
      "display_name": "Python 3",
      "name": "python3"
    },
    "language_info": {
      "name": "python"
    }
  },
  "nbformat": 4,
  "nbformat_minor": 0
}